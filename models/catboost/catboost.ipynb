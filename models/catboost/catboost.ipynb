{
 "cells": [
  {
   "cell_type": "code",
   "execution_count": 1,
   "metadata": {
    "collapsed": true,
    "pycharm": {
     "is_executing": false
    }
   },
   "outputs": [],
   "source": [
    "import pandas as pd\n",
    "import numpy as np"
   ]
  },
  {
   "cell_type": "code",
   "execution_count": 2,
   "outputs": [
    {
     "name": "stdout",
     "text": [
      "   order_id stat_order_created_ts  stat_order_processed_user_id  \\\n",
      "0   1897739   2019-12-01 00:11:48                          8204   \n",
      "1   1897743   2019-12-01 00:12:33                          8026   \n",
      "2   1897745   2019-12-01 00:12:54                          9245   \n",
      "3   1897765   2019-12-01 00:26:07                         12419   \n",
      "4   1897791   2019-12-01 00:34:46                         14631   \n",
      "\n",
      "  stat_order_confirmed_ts  stat_order_confirmed_user_id  \\\n",
      "0     2019-12-02 09:53:03                          8204   \n",
      "1     2019-12-01 10:13:22                          8026   \n",
      "2     2019-12-01 11:12:37                          9245   \n",
      "3     2019-12-01 13:09:38                         12419   \n",
      "4     2019-12-12 17:32:03                         14631   \n",
      "\n",
      "   stat_order_callback_ts   stat_order_lead_ts  stat_order_operator_id  \\\n",
      "0                     NaN  2019-12-01 00:11:48                    8204   \n",
      "1                     NaN  2019-12-01 00:12:33                    8026   \n",
      "2                     NaN  2019-12-01 00:12:54                    9245   \n",
      "3                     NaN  2019-12-01 00:26:07                   12419   \n",
      "4                     NaN  2019-12-01 00:34:46                   14631   \n",
      "\n",
      "   stat_order_rejection_reason  stat_order_invalid_reason  ...  \\\n",
      "0                          NaN                        NaN  ...   \n",
      "1                          NaN                        NaN  ...   \n",
      "2                          NaN                        NaN  ...   \n",
      "3                          NaN                        NaN  ...   \n",
      "4                          NaN                        NaN  ...   \n",
      "\n",
      "  order_client_age_unknown order_client_sex order_address_country  \\\n",
      "0                      NaN             male                    IT   \n",
      "1                      NaN             male                    IT   \n",
      "2                      NaN             male                    IT   \n",
      "3                      NaN             male                    DE   \n",
      "4                      NaN             male                    IT   \n",
      "\n",
      "   order_address_region order_address_city   order_address_street  \\\n",
      "0                   NaN             Napoli   Via Giacinto Gigante   \n",
      "1                    GE             Genova  Via Alcide de Gasperi   \n",
      "2                    RM               Roma       Via Montefiorino   \n",
      "3                    BE             Berlin      Fritz-Erler-Allee   \n",
      "4                    RC    Bovalino Marino   Francesco Calfapetra   \n",
      "\n",
      "   order_address_house order_address_housing  order_address_apartment  \\\n",
      "0                    2                     -                        -   \n",
      "1                   12                   NaN                        -   \n",
      "2                   26                     -                        -   \n",
      "3                   62                     -                        -   \n",
      "4                   13                     -                        -   \n",
      "\n",
      "  order_address_zip_code  \n",
      "0                  80136  \n",
      "1                  16166  \n",
      "2                  00188  \n",
      "3                  12351  \n",
      "4                  89034  \n",
      "\n",
      "[5 rows x 73 columns]\n"
     ],
     "output_type": "stream"
    },
    {
     "name": "stderr",
     "text": [
      "/home/sergey/anaconda3/envs/WVproject/lib/python3.7/site-packages/IPython/core/interactiveshell.py:3063: DtypeWarning: Columns (72) have mixed types.Specify dtype option on import or set low_memory=False.\n",
      "  interactivity=interactivity, compiler=compiler, result=result)\n"
     ],
     "output_type": "stream"
    }
   ],
   "source": [
    "path = \"/home/sergey/mnt/st1500/Usr/Sergey/TheJob/clientsProjects/data/Webvork/real_2019-12-01-2019-12-31.csv\" \n",
    "\n",
    "data = pd.read_csv(path, sep=\";\", parse_dates=True)\n",
    "print(data.head())"
   ],
   "metadata": {
    "collapsed": false,
    "pycharm": {
     "name": "#%%\n",
     "is_executing": false
    }
   }
  },
  {
   "cell_type": "code",
   "execution_count": 3,
   "outputs": [
    {
     "data": {
      "text/plain": "(8632, 73)"
     },
     "metadata": {},
     "output_type": "execute_result",
     "execution_count": 3
    }
   ],
   "source": [
    "data.shape"
   ],
   "metadata": {
    "collapsed": false,
    "pycharm": {
     "name": "#%%\n",
     "is_executing": false
    }
   }
  },
  {
   "cell_type": "code",
   "execution_count": 4,
   "outputs": [
    {
     "data": {
      "text/plain": "Index(['order_id', 'stat_order_created_ts', 'stat_order_processed_user_id',\n       'stat_order_confirmed_ts', 'stat_order_confirmed_user_id',\n       'stat_order_callback_ts', 'stat_order_lead_ts',\n       'stat_order_operator_id', 'stat_order_rejection_reason',\n       'stat_order_invalid_reason', 'stat_order_country',\n       'stat_order_country_ip', 'stat_order_country_phone',\n       'stat_order_region', 'stat_order_city', 'stat_order_delivery_price',\n       'stat_order_payment_method', 'stat_order_phone_geocoder',\n       'stat_order_phone_valid', 'stat_order_status_order',\n       'stat_order_is_valid', 'stat_order_is_call_fail',\n       'stat_order_valid_error', 'stat_order_webmaster_id',\n       'stat_order_offer_id', 'stat_order_landing_id',\n       'stat_order_prelanding_id', 'stat_order_money', 'stat_order_count_call',\n       'stat_order_last_call_ts', 'stat_order_count_callback',\n       'stat_order_good_count', 'stat_order_phone_id', 'stat_order_utm_source',\n       'stat_order_utm_medium', 'stat_order_utm_campaign',\n       'stat_order_utm_content', 'stat_order_utm_term', 'stat_order_is_prepay',\n       'stat_order_landing_price', 'stat_order_landing_currency',\n       'stat_order_time_before_open_form', 'stat_order_account_manager_id',\n       'stat_order_unique_goods', 'stat_delivery_in_stock_ts',\n       'stat_delivery_cancel_in_stock_ts', 'stat_delivery_paid_ts',\n       'stat_delivery_return_ts', 'stat_delivery_good_count',\n       'stat_delivery_is_paid', 'stat_delivery_is_return',\n       'stat_delivery_delivery_status', 'stat_delivery_manager_id',\n       'stat_delivery_exception', 'stat_delivery_finance_revise_ts',\n       'stat_delivery_discount', 'stat_delivery_discount_eur',\n       'stat_delivery_operator_status',\n       'stat_delivery_google_and_operator_address_match', 'order_client_name',\n       'order_client_surname', 'order_client_additional_phone',\n       'order_client_age', 'order_client_age_unknown', 'order_client_sex',\n       'order_address_country', 'order_address_region', 'order_address_city',\n       'order_address_street', 'order_address_house', 'order_address_housing',\n       'order_address_apartment', 'order_address_zip_code'],\n      dtype='object')"
     },
     "metadata": {},
     "output_type": "execute_result",
     "execution_count": 4
    }
   ],
   "source": [
    "len(data.columns)\n",
    "data.columns\n"
   ],
   "metadata": {
    "collapsed": false,
    "pycharm": {
     "name": "#%%\n",
     "is_executing": false
    }
   }
  },
  {
   "cell_type": "code",
   "execution_count": 5,
   "outputs": [
    {
     "data": {
      "text/plain": "71"
     },
     "metadata": {},
     "output_type": "execute_result",
     "execution_count": 5
    }
   ],
   "source": [
    "data.columns.get_loc('stat_order_money')\n",
    "data.columns.get_loc('order_address_apartment')"
   ],
   "metadata": {
    "collapsed": false,
    "pycharm": {
     "name": "#%%\n",
     "is_executing": false
    }
   }
  },
  {
   "cell_type": "code",
   "execution_count": 6,
   "outputs": [
    {
     "name": "stdout",
     "text": [
      "p                    6808\n",
      "r                    1796\n",
      "p+r                  8604\n",
      "всего данных         8632\n",
      "где-то потерялось     -28\n",
      "dtype: int64\n"
     ],
     "output_type": "stream"
    }
   ],
   "source": [
    "p = data['stat_delivery_is_paid'].count()\n",
    "r = data['stat_delivery_is_return'].count()\n",
    "\n",
    "series = pd.Series(data={\"p\": p, \"r\": r, \"p+r\": p+r, \n",
    "                          \"всего данных\": data.shape[0], \"где-то потерялось\": p+r-data.shape[0]}    ) \n",
    "\n",
    "print(series)"
   ],
   "metadata": {
    "collapsed": false,
    "pycharm": {
     "name": "#%%\n",
     "is_executing": false
    }
   }
  },
  {
   "cell_type": "code",
   "execution_count": 7,
   "outputs": [
    {
     "data": {
      "text/plain": "array([49, 50])"
     },
     "metadata": {},
     "output_type": "execute_result",
     "execution_count": 7
    }
   ],
   "source": [
    "stats = np.ravel(np.where(np.char.startswith(list(data.columns), \n",
    "                                    prefix=\"stat_delivery_is\")))\n",
    "stats"
   ],
   "metadata": {
    "collapsed": false,
    "pycharm": {
     "name": "#%%\n",
     "is_executing": false
    }
   }
  },
  {
   "cell_type": "code",
   "execution_count": 8,
   "outputs": [
    {
     "name": "stdout",
     "text": [
      "stat_delivery_is_paid\n",
      "stat_delivery_is_return\n"
     ],
     "output_type": "stream"
    }
   ],
   "source": [
    " \n",
    "for raw in list(data.columns):\n",
    "   if raw.startswith(\"stat_delivery_is\"):\n",
    "       print(raw)\n"
   ],
   "metadata": {
    "collapsed": false,
    "pycharm": {
     "name": "#%%\n",
     "is_executing": false
    }
   }
  },
  {
   "cell_type": "code",
   "execution_count": 9,
   "outputs": [],
   "source": [
    "for col in data.columns:\n",
    "    if data[col].count() == 28:\n",
    "        print(col)\n",
    "\n"
   ],
   "metadata": {
    "collapsed": false,
    "pycharm": {
     "name": "#%%\n",
     "is_executing": false
    }
   }
  },
  {
   "cell_type": "code",
   "execution_count": 10,
   "outputs": [
    {
     "data": {
      "text/plain": "0       80136\n1       16166\n2       00188\n3       12351\n4       89034\n        ...  \n8627    39600\n8628     3503\n8629     7922\n8630    64010\n8631    97016\nName: order_address_zip_code, Length: 8632, dtype: object"
     },
     "metadata": {},
     "output_type": "execute_result",
     "execution_count": 10
    }
   ],
   "source": [
    "data['order_address_zip_code']\n",
    "\n"
   ],
   "metadata": {
    "collapsed": false,
    "pycharm": {
     "name": "#%%\n",
     "is_executing": false
    }
   }
  },
  {
   "cell_type": "code",
   "execution_count": 11,
   "outputs": [
    {
     "name": "stdout",
     "text": [
      "0    1897739\n",
      "Name: order_id, dtype: int64\n",
      "0    2019-12-01 00:11:48\n",
      "Name: stat_order_created_ts, dtype: object\n",
      "0    8204\n",
      "Name: stat_order_processed_user_id, dtype: int64\n",
      "0    2019-12-02 09:53:03\n",
      "Name: stat_order_confirmed_ts, dtype: object\n",
      "0    8204\n",
      "Name: stat_order_confirmed_user_id, dtype: int64\n",
      "0   NaN\n",
      "Name: stat_order_callback_ts, dtype: float64\n",
      "0    2019-12-01 00:11:48\n",
      "Name: stat_order_lead_ts, dtype: object\n",
      "0    8204\n",
      "Name: stat_order_operator_id, dtype: int64\n",
      "0   NaN\n",
      "Name: stat_order_rejection_reason, dtype: float64\n",
      "0   NaN\n",
      "Name: stat_order_invalid_reason, dtype: float64\n",
      "0    IT\n",
      "Name: stat_order_country, dtype: object\n",
      "0    IT\n",
      "Name: stat_order_country_ip, dtype: object\n",
      "0    IT\n",
      "Name: stat_order_country_phone, dtype: object\n",
      "0   NaN\n",
      "Name: stat_order_region, dtype: float64\n",
      "0    NaN\n",
      "Name: stat_order_city, dtype: object\n",
      "0   NaN\n",
      "Name: stat_order_delivery_price, dtype: float64\n",
      "0   NaN\n",
      "Name: stat_order_payment_method, dtype: float64\n",
      "0    NaN\n",
      "Name: stat_order_phone_geocoder, dtype: object\n",
      "0    1\n",
      "Name: stat_order_phone_valid, dtype: int64\n",
      "0    confirmed\n",
      "Name: stat_order_status_order, dtype: object\n",
      "0    1\n",
      "Name: stat_order_is_valid, dtype: int64\n",
      "0    0.0\n",
      "Name: stat_order_is_call_fail, dtype: float64\n",
      "0   NaN\n",
      "Name: stat_order_valid_error, dtype: float64\n",
      "0    46\n",
      "Name: stat_order_webmaster_id, dtype: int64\n",
      "0    5\n",
      "Name: stat_order_offer_id, dtype: int64\n",
      "0   NaN\n",
      "Name: stat_order_landing_id, dtype: float64\n",
      "0   NaN\n",
      "Name: stat_order_prelanding_id, dtype: float64\n",
      "0    13900\n",
      "Name: stat_order_money, dtype: int64\n",
      "0    8\n",
      "Name: stat_order_count_call, dtype: int64\n",
      "0    2020-02-19 15:56:27\n",
      "Name: stat_order_last_call_ts, dtype: object\n",
      "0    6\n",
      "Name: stat_order_count_callback, dtype: int64\n",
      "0    5\n",
      "Name: stat_order_good_count, dtype: int64\n",
      "0    1141427\n",
      "Name: stat_order_phone_id, dtype: int64\n",
      "0    NaN\n",
      "Name: stat_order_utm_source, dtype: object\n",
      "0    MegaPush\n",
      "Name: stat_order_utm_medium, dtype: object\n",
      "0    Roman_Prostatricium_IT Megapush NEW\n",
      "Name: stat_order_utm_campaign, dtype: object\n",
      "0    NaN\n",
      "Name: stat_order_utm_content, dtype: object\n",
      "0    7386au3b7bzb7474\n",
      "Name: stat_order_utm_term, dtype: object\n",
      "0   NaN\n",
      "Name: stat_order_is_prepay, dtype: float64\n",
      "0   NaN\n",
      "Name: stat_order_landing_price, dtype: float64\n",
      "0   NaN\n",
      "Name: stat_order_landing_currency, dtype: float64\n",
      "0    121106\n",
      "Name: stat_order_time_before_open_form, dtype: int64\n",
      "0    5845\n",
      "Name: stat_order_account_manager_id, dtype: int64\n",
      "0    2\n",
      "Name: stat_order_unique_goods, dtype: int64\n",
      "0    2019-12-02 14:30:23\n",
      "Name: stat_delivery_in_stock_ts, dtype: object\n",
      "0   NaN\n",
      "Name: stat_delivery_cancel_in_stock_ts, dtype: float64\n",
      "0    2019-12-05 00:00:00\n",
      "Name: stat_delivery_paid_ts, dtype: object\n",
      "0    NaN\n",
      "Name: stat_delivery_return_ts, dtype: object\n",
      "0    5\n",
      "Name: stat_delivery_good_count, dtype: int64\n",
      "0    1.0\n",
      "Name: stat_delivery_is_paid, dtype: float64\n",
      "0   NaN\n",
      "Name: stat_delivery_is_return, dtype: float64\n",
      "0    paid\n",
      "Name: stat_delivery_delivery_status, dtype: object\n",
      "0    6160\n",
      "Name: stat_delivery_manager_id, dtype: int64\n",
      "0    NaN\n",
      "Name: stat_delivery_exception, dtype: object\n",
      "0    2019-12-17 00:00:00\n",
      "Name: stat_delivery_finance_revise_ts, dtype: object\n",
      "0    0\n",
      "Name: stat_delivery_discount, dtype: int64\n",
      "0    0\n",
      "Name: stat_delivery_discount_eur, dtype: int64\n",
      "0    NaN\n",
      "Name: stat_delivery_operator_status, dtype: object\n",
      "0    1\n",
      "Name: stat_delivery_google_and_operator_address_match, dtype: int64\n",
      "0    Gennaro\n",
      "Name: order_client_name, dtype: object\n",
      "0    Schioppa\n",
      "Name: order_client_surname, dtype: object\n",
      "0    NaN\n",
      "Name: order_client_additional_phone, dtype: object\n",
      "0    67.0\n",
      "Name: order_client_age, dtype: float64\n",
      "0   NaN\n",
      "Name: order_client_age_unknown, dtype: float64\n",
      "0    male\n",
      "Name: order_client_sex, dtype: object\n",
      "0    IT\n",
      "Name: order_address_country, dtype: object\n",
      "0    NaN\n",
      "Name: order_address_region, dtype: object\n",
      "0    Napoli\n",
      "Name: order_address_city, dtype: object\n",
      "0    Via Giacinto Gigante\n",
      "Name: order_address_street, dtype: object\n",
      "0    2\n",
      "Name: order_address_house, dtype: object\n",
      "0    -\n",
      "Name: order_address_housing, dtype: object\n",
      "0    -\n",
      "Name: order_address_apartment, dtype: object\n",
      "0    80136\n",
      "Name: order_address_zip_code, dtype: object\n"
     ],
     "output_type": "stream"
    }
   ],
   "source": [
    "\n",
    "for col in data:\n",
    "    print(data[col][:1])\n"
   ],
   "metadata": {
    "collapsed": false,
    "pycharm": {
     "name": "#%%\n",
     "is_executing": false
    }
   }
  },
  {
   "cell_type": "code",
   "execution_count": 12,
   "outputs": [
    {
     "data": {
      "text/plain": "0       NaN\n1       NaN\n2       NaN\n3       1.0\n4       NaN\n       ... \n8627    NaN\n8628    NaN\n8629    1.0\n8630    NaN\n8631    NaN\nName: stat_delivery_is_return, Length: 8632, dtype: float64"
     },
     "metadata": {},
     "output_type": "execute_result",
     "execution_count": 12
    }
   ],
   "source": [
    "data[\"stat_delivery_is_return\"]"
   ],
   "metadata": {
    "collapsed": false,
    "pycharm": {
     "name": "#%%\n",
     "is_executing": false
    }
   }
  },
  {
   "cell_type": "code",
   "execution_count": 13,
   "outputs": [
    {
     "name": "stdout",
     "text": [
      "0      -0.0\n",
      "1      -0.0\n",
      "2      -0.0\n",
      "3      -1.0\n",
      "4      -0.0\n",
      "       ... \n",
      "8627   -0.0\n",
      "8628   -0.0\n",
      "8629   -1.0\n",
      "8630   -0.0\n",
      "8631   -0.0\n",
      "Name: stat_delivery_is_return, Length: 8632, dtype: float64\n"
     ],
     "output_type": "stream"
    }
   ],
   "source": [
    "data[\"stat_delivery_is_return\"].fillna(value=0, inplace=True)\n",
    "data[\"stat_delivery_is_paid\"].fillna(value=0, inplace=True)\n",
    "\n",
    "\n",
    "\n",
    "\n",
    "data.loc[:, \"stat_delivery_is_return\"] = -data[\"stat_delivery_is_return\"]\n",
    "\n",
    "print(data[\"stat_delivery_is_return\"])"
   ],
   "metadata": {
    "collapsed": false,
    "pycharm": {
     "name": "#%%\n",
     "is_executing": false
    }
   }
  },
  {
   "cell_type": "code",
   "execution_count": 14,
   "outputs": [
    {
     "name": "stdout",
     "text": [
      "0       1\n",
      "1       1\n",
      "2       1\n",
      "3      -1\n",
      "4       1\n",
      "       ..\n",
      "8627    1\n",
      "8628    1\n",
      "8629   -1\n",
      "8630    1\n",
      "8631    1\n",
      "Length: 8632, dtype: int64\n"
     ],
     "output_type": "stream"
    }
   ],
   "source": [
    "binary_target = data.pop(\"stat_delivery_is_paid\").add(\n",
    "    data.pop(\"stat_delivery_is_return\")).astype(int)\n",
    "\n",
    "print(binary_target)"
   ],
   "metadata": {
    "collapsed": false,
    "pycharm": {
     "name": "#%%\n",
     "is_executing": false
    }
   }
  },
  {
   "cell_type": "code",
   "execution_count": 15,
   "outputs": [],
   "source": [
    "cat_features_names = ['order_id', 'stat_order_processed_user_id',\n",
    "       'stat_order_confirmed_user_id',\n",
    "       'stat_order_operator_id', 'stat_order_rejection_reason',\n",
    "       'stat_order_invalid_reason', 'stat_order_country',\n",
    "       'stat_order_country_ip', 'stat_order_country_phone',\n",
    "       'stat_order_region', 'stat_order_city', \n",
    "       'stat_order_payment_method', 'stat_order_phone_geocoder',\n",
    "       'stat_order_phone_valid', 'stat_order_status_order',\n",
    "       'stat_order_is_valid', 'stat_order_is_call_fail',\n",
    "       'stat_order_valid_error', 'stat_order_webmaster_id',\n",
    "       'stat_order_offer_id', 'stat_order_landing_id',\n",
    "       'stat_order_prelanding_id', \n",
    "       'stat_order_good_count', 'stat_order_phone_id', 'stat_order_utm_source',\n",
    "       'stat_order_utm_medium', 'stat_order_utm_campaign',\n",
    "       'stat_order_utm_content', 'stat_order_utm_term', 'stat_order_is_prepay',\n",
    "       'stat_order_landing_currency',\n",
    "       'stat_order_account_manager_id',\n",
    "       'stat_order_unique_goods',\n",
    "       'stat_delivery_good_count',\n",
    "       'stat_delivery_delivery_status', 'stat_delivery_manager_id',\n",
    "       'stat_delivery_exception',\n",
    "       'stat_delivery_operator_status',\n",
    "       'stat_delivery_google_and_operator_address_match', 'order_client_name',\n",
    "       'order_client_surname', 'order_client_additional_phone',\n",
    "       'order_client_age', 'order_client_age_unknown', 'order_client_sex',\n",
    "       'order_address_country', 'order_address_region', 'order_address_city',\n",
    "       'order_address_street', 'order_address_house', 'order_address_housing',\n",
    "       'order_address_apartment', 'order_address_zip_code']\n"
   ],
   "metadata": {
    "collapsed": false,
    "pycharm": {
     "name": "#%%\n",
     "is_executing": false
    }
   }
  },
  {
   "cell_type": "code",
   "execution_count": 16,
   "outputs": [],
   "source": [
    "i = data.columns.copy().drop(cat_features_names)"
   ],
   "metadata": {
    "collapsed": false,
    "pycharm": {
     "name": "#%%\n",
     "is_executing": false
    }
   }
  },
  {
   "cell_type": "code",
   "execution_count": 17,
   "outputs": [
    {
     "data": {
      "text/plain": "Index(['stat_order_created_ts', 'stat_order_confirmed_ts',\n       'stat_order_callback_ts', 'stat_order_lead_ts',\n       'stat_order_delivery_price', 'stat_order_money',\n       'stat_order_count_call', 'stat_order_last_call_ts',\n       'stat_order_count_callback', 'stat_order_landing_price',\n       'stat_order_time_before_open_form', 'stat_delivery_in_stock_ts',\n       'stat_delivery_cancel_in_stock_ts', 'stat_delivery_paid_ts',\n       'stat_delivery_return_ts', 'stat_delivery_finance_revise_ts',\n       'stat_delivery_discount', 'stat_delivery_discount_eur'],\n      dtype='object')"
     },
     "metadata": {},
     "output_type": "execute_result",
     "execution_count": 17
    }
   ],
   "source": [
    "i\n"
   ],
   "metadata": {
    "collapsed": false,
    "pycharm": {
     "name": "#%%\n",
     "is_executing": false
    }
   }
  },
  {
   "cell_type": "code",
   "execution_count": 18,
   "outputs": [],
   "source": [
    "ii = [data.columns.get_loc(x) for x in cat_features_names] "
   ],
   "metadata": {
    "collapsed": false,
    "pycharm": {
     "name": "#%%\n",
     "is_executing": false
    }
   }
  },
  {
   "cell_type": "code",
   "execution_count": 19,
   "outputs": [
    {
     "data": {
      "text/plain": "[0,\n 2,\n 4,\n 7,\n 8,\n 9,\n 10,\n 11,\n 12,\n 13,\n 14,\n 16,\n 17,\n 18,\n 19,\n 20,\n 21,\n 22,\n 23,\n 24,\n 25,\n 26,\n 31,\n 32,\n 33,\n 34,\n 35,\n 36,\n 37,\n 38,\n 40,\n 42,\n 43,\n 48,\n 49,\n 50,\n 51,\n 55,\n 56,\n 57,\n 58,\n 59,\n 60,\n 61,\n 62,\n 63,\n 64,\n 65,\n 66,\n 67,\n 68,\n 69,\n 70]"
     },
     "metadata": {},
     "output_type": "execute_result",
     "execution_count": 19
    }
   ],
   "source": [
    "ii"
   ],
   "metadata": {
    "collapsed": false,
    "pycharm": {
     "name": "#%%\n",
     "is_executing": false
    }
   }
  },
  {
   "cell_type": "code",
   "execution_count": 20,
   "outputs": [],
   "source": [
    "import catboost_data_engine as engine"
   ],
   "metadata": {
    "collapsed": false,
    "pycharm": {
     "name": "#%%\n",
     "is_executing": false
    }
   }
  },
  {
   "cell_type": "code",
   "execution_count": 21,
   "outputs": [],
   "source": [
    "en = engine.RealDataEngineCatboost(\n",
    "    data_file=\"/home/sergey/mnt/st1500/Usr/Sergey/TheJob/clientsProjects/\"\n",
    "              \"data/Webvork/real_2019-12-01-2019-12-31.csv\",\n",
    "    test_fraction=3)"
   ],
   "metadata": {
    "collapsed": false,
    "pycharm": {
     "name": "#%%\n",
     "is_executing": false
    }
   }
  },
  {
   "cell_type": "code",
   "execution_count": 22,
   "outputs": [
    {
     "data": {
      "text/plain": "   order_id stat_order_created_ts  stat_order_processed_user_id  \\\n0   1897739   2019-12-01 00:11:48                          8204   \n4   1897791   2019-12-01 00:34:46                         14631   \n5   1897799   2019-12-01 00:40:41                         10233   \n6   1897809   2019-12-01 01:02:05                         12419   \n7   1897811   2019-12-01 01:10:35                         12817   \n\n  stat_order_confirmed_ts  stat_order_confirmed_user_id  \\\n0     2019-12-02 09:53:03                          8204   \n4     2019-12-12 17:32:03                         14631   \n5     2019-12-01 09:46:23                         10233   \n6     2019-12-01 14:38:57                         12419   \n7     2019-12-02 18:47:04                         12817   \n\n   stat_order_callback_ts   stat_order_lead_ts  stat_order_operator_id  \\\n0                     NaN  2019-12-01 00:11:48                    8204   \n4                     NaN  2019-12-01 00:34:46                   14631   \n5                     NaN  2019-12-01 00:40:41                   10233   \n6                     NaN  2019-12-01 01:02:05                   12419   \n7                     NaN  2019-12-01 01:10:35                   12817   \n\n   stat_order_rejection_reason  stat_order_invalid_reason  ...  \\\n0                          NaN                        NaN  ...   \n4                          NaN                        NaN  ...   \n5                          NaN                        NaN  ...   \n6                          NaN                        NaN  ...   \n7                          NaN                        NaN  ...   \n\n  order_client_age_unknown order_client_sex order_address_country  \\\n0                      NaN             male                    IT   \n4                      NaN             male                    IT   \n5                      NaN             male                    IT   \n6                      NaN           female                    AT   \n7                      1.0           female                    AT   \n\n   order_address_region        order_address_city  order_address_street  \\\n0                   NaN                    Napoli  Via Giacinto Gigante   \n4                    RC           Bovalino Marino  Francesco Calfapetra   \n5                    AQ                    Lucoli       Via dell'Aquila   \n6                    NÖ  Schönau an der Triesting     Weingarten Straße   \n7                    NÖ                     Gföhl        Weinhebergasse   \n\n   order_address_house order_address_housing  order_address_apartment  \\\n0                    2                     -                        -   \n4                   13                     -                        -   \n5                    4                   NaN                        -   \n6                   24                     -                        -   \n7                   27                     -                        -   \n\n  order_address_zip_code  \n0                  80136  \n4                  89034  \n5                  67045  \n6                   2525  \n7                   3542  \n\n[5 rows x 71 columns]",
      "text/html": "<div>\n<style scoped>\n    .dataframe tbody tr th:only-of-type {\n        vertical-align: middle;\n    }\n\n    .dataframe tbody tr th {\n        vertical-align: top;\n    }\n\n    .dataframe thead th {\n        text-align: right;\n    }\n</style>\n<table border=\"1\" class=\"dataframe\">\n  <thead>\n    <tr style=\"text-align: right;\">\n      <th></th>\n      <th>order_id</th>\n      <th>stat_order_created_ts</th>\n      <th>stat_order_processed_user_id</th>\n      <th>stat_order_confirmed_ts</th>\n      <th>stat_order_confirmed_user_id</th>\n      <th>stat_order_callback_ts</th>\n      <th>stat_order_lead_ts</th>\n      <th>stat_order_operator_id</th>\n      <th>stat_order_rejection_reason</th>\n      <th>stat_order_invalid_reason</th>\n      <th>...</th>\n      <th>order_client_age_unknown</th>\n      <th>order_client_sex</th>\n      <th>order_address_country</th>\n      <th>order_address_region</th>\n      <th>order_address_city</th>\n      <th>order_address_street</th>\n      <th>order_address_house</th>\n      <th>order_address_housing</th>\n      <th>order_address_apartment</th>\n      <th>order_address_zip_code</th>\n    </tr>\n  </thead>\n  <tbody>\n    <tr>\n      <th>0</th>\n      <td>1897739</td>\n      <td>2019-12-01 00:11:48</td>\n      <td>8204</td>\n      <td>2019-12-02 09:53:03</td>\n      <td>8204</td>\n      <td>NaN</td>\n      <td>2019-12-01 00:11:48</td>\n      <td>8204</td>\n      <td>NaN</td>\n      <td>NaN</td>\n      <td>...</td>\n      <td>NaN</td>\n      <td>male</td>\n      <td>IT</td>\n      <td>NaN</td>\n      <td>Napoli</td>\n      <td>Via Giacinto Gigante</td>\n      <td>2</td>\n      <td>-</td>\n      <td>-</td>\n      <td>80136</td>\n    </tr>\n    <tr>\n      <th>4</th>\n      <td>1897791</td>\n      <td>2019-12-01 00:34:46</td>\n      <td>14631</td>\n      <td>2019-12-12 17:32:03</td>\n      <td>14631</td>\n      <td>NaN</td>\n      <td>2019-12-01 00:34:46</td>\n      <td>14631</td>\n      <td>NaN</td>\n      <td>NaN</td>\n      <td>...</td>\n      <td>NaN</td>\n      <td>male</td>\n      <td>IT</td>\n      <td>RC</td>\n      <td>Bovalino Marino</td>\n      <td>Francesco Calfapetra</td>\n      <td>13</td>\n      <td>-</td>\n      <td>-</td>\n      <td>89034</td>\n    </tr>\n    <tr>\n      <th>5</th>\n      <td>1897799</td>\n      <td>2019-12-01 00:40:41</td>\n      <td>10233</td>\n      <td>2019-12-01 09:46:23</td>\n      <td>10233</td>\n      <td>NaN</td>\n      <td>2019-12-01 00:40:41</td>\n      <td>10233</td>\n      <td>NaN</td>\n      <td>NaN</td>\n      <td>...</td>\n      <td>NaN</td>\n      <td>male</td>\n      <td>IT</td>\n      <td>AQ</td>\n      <td>Lucoli</td>\n      <td>Via dell'Aquila</td>\n      <td>4</td>\n      <td>NaN</td>\n      <td>-</td>\n      <td>67045</td>\n    </tr>\n    <tr>\n      <th>6</th>\n      <td>1897809</td>\n      <td>2019-12-01 01:02:05</td>\n      <td>12419</td>\n      <td>2019-12-01 14:38:57</td>\n      <td>12419</td>\n      <td>NaN</td>\n      <td>2019-12-01 01:02:05</td>\n      <td>12419</td>\n      <td>NaN</td>\n      <td>NaN</td>\n      <td>...</td>\n      <td>NaN</td>\n      <td>female</td>\n      <td>AT</td>\n      <td>NÖ</td>\n      <td>Schönau an der Triesting</td>\n      <td>Weingarten Straße</td>\n      <td>24</td>\n      <td>-</td>\n      <td>-</td>\n      <td>2525</td>\n    </tr>\n    <tr>\n      <th>7</th>\n      <td>1897811</td>\n      <td>2019-12-01 01:10:35</td>\n      <td>12817</td>\n      <td>2019-12-02 18:47:04</td>\n      <td>12817</td>\n      <td>NaN</td>\n      <td>2019-12-01 01:10:35</td>\n      <td>12817</td>\n      <td>NaN</td>\n      <td>NaN</td>\n      <td>...</td>\n      <td>1.0</td>\n      <td>female</td>\n      <td>AT</td>\n      <td>NÖ</td>\n      <td>Gföhl</td>\n      <td>Weinhebergasse</td>\n      <td>27</td>\n      <td>-</td>\n      <td>-</td>\n      <td>3542</td>\n    </tr>\n  </tbody>\n</table>\n<p>5 rows × 71 columns</p>\n</div>"
     },
     "metadata": {},
     "output_type": "execute_result",
     "execution_count": 22
    }
   ],
   "source": [
    "train = en.Xtrain_df\n",
    "train.head()"
   ],
   "metadata": {
    "collapsed": false,
    "pycharm": {
     "name": "#%%\n",
     "is_executing": false
    }
   }
  },
  {
   "cell_type": "code",
   "execution_count": 23,
   "outputs": [],
   "source": [
    "# train_pool = en.train_pool()"
   ],
   "metadata": {
    "collapsed": false,
    "pycharm": {
     "name": "#%%\n",
     "is_executing": false
    }
   }
  },
  {
   "cell_type": "code",
   "execution_count": 27,
   "outputs": [
    {
     "name": "stdout",
     "text": [
      "# \n",
      "# description: обязательный\n",
      "#  - строка, непустая, описание параметра, в расчетах не участвует, не проверяется\n",
      "#   \n",
      "# type: обязательный\n",
      "#  - 'num' - скаляр, т.е. возможно сравнение на больше-меньше\n",
      "#  - 'datetime' - дата и время, округляем до минут, но если минут нет, например, только часы, то до максимальной оставшейся точности\n",
      "#  - 'string' - признак, категориальный, для которого нет метрики сравнения, например id оператора\n",
      "#  - 'Na' - not applied, не участвует (пока) в анализе, например, название улицы \n",
      "#   \n",
      "# min_val: необязательный - минимально возможное значение для скаляра, если не скаляр, должен быть опущен или == 'Na'  если не определен или Na, то не проверяется\n",
      "#  - 'Na'\n",
      "#   \n",
      "# max_val: необязательный, аналогично min_val\n",
      "#   \n",
      "# error: обязательный - возвращаемая ошибка сервера, содержит имя параметра, для которого вызвана, например order_id, и причину, напр. typerror\n",
      "#  \n",
      "\n",
      "protocol:\n",
      "  - !fields)\n",
      "  order_id:\n",
      "    - description: Na\n",
      "    - type: Na\n",
      "    - min_val: Na\n",
      "    - max_val: Na\n",
      "    - error: Na\n",
      "  stat_order_created_ts:\n",
      "    - description: Na\n",
      "    - type: Na\n",
      "    - min_val: Na\n",
      "    - max_val: Na\n",
      "    - error: Na\n",
      "  stat_order_processed_user_id:\n",
      "    - description: Na\n",
      "    - type: Na\n",
      "    - min_val: Na\n",
      "    - max_val: Na\n",
      "    - error: Na\n",
      "  stat_order_confirmed_ts:\n",
      "    - description: Na\n",
      "    - type: Na\n",
      "    - min_val: Na\n",
      "    - max_val: Na\n",
      "    - error: Na\n",
      "  stat_order_confirmed_user_id:\n",
      "    - description: Na\n",
      "    - type: Na\n",
      "    - min_val: Na\n",
      "    - max_val: Na\n",
      "    - error: Na\n",
      "  stat_order_callback_ts:\n",
      "    - description: Na\n",
      "    - type: Na\n",
      "    - min_val: Na\n",
      "    - max_val: Na\n",
      "    - error: Na\n",
      "  stat_order_lead_ts:\n",
      "    - description: Na\n",
      "    - type: Na\n",
      "    - min_val: Na\n",
      "    - max_val: Na\n",
      "    - error: Na\n",
      "  stat_order_operator_id:\n",
      "    - description: Na\n",
      "    - type: Na\n",
      "    - min_val: Na\n",
      "    - max_val: Na\n",
      "    - error: Na\n",
      "  stat_order_rejection_reason:\n",
      "    - description: Na\n",
      "    - type: Na\n",
      "    - min_val: Na\n",
      "    - max_val: Na\n",
      "    - error: Na\n",
      "  stat_order_invalid_reason:\n",
      "    - description: Na\n",
      "    - type: Na\n",
      "    - min_val: Na\n",
      "    - max_val: Na\n",
      "    - error: Na\n",
      "  stat_order_country:\n",
      "    - description: Na\n",
      "    - type: Na\n",
      "    - min_val: Na\n",
      "    - max_val: Na\n",
      "    - error: Na\n",
      "  stat_order_country_ip:\n",
      "    - description: Na\n",
      "    - type: Na\n",
      "    - min_val: Na\n",
      "    - max_val: Na\n",
      "    - error: Na\n",
      "  stat_order_country_phone:\n",
      "    - description: Na\n",
      "    - type: Na\n",
      "    - min_val: Na\n",
      "    - max_val: Na\n",
      "    - error: Na\n",
      "  stat_order_region:\n",
      "    - description: Na\n",
      "    - type: Na\n",
      "    - min_val: Na\n",
      "    - max_val: Na\n",
      "    - error: Na\n",
      "  stat_order_city:\n",
      "    - description: Na\n",
      "    - type: Na\n",
      "    - min_val: Na\n",
      "    - max_val: Na\n",
      "    - error: Na\n",
      "  stat_order_delivery_price:\n",
      "    - description: Na\n",
      "    - type: Na\n",
      "    - min_val: Na\n",
      "    - max_val: Na\n",
      "    - error: Na\n",
      "  stat_order_payment_method:\n",
      "    - description: Na\n",
      "    - type: Na\n",
      "    - min_val: Na\n",
      "    - max_val: Na\n",
      "    - error: Na\n",
      "  stat_order_phone_geocoder:\n",
      "    - description: Na\n",
      "    - type: Na\n",
      "    - min_val: Na\n",
      "    - max_val: Na\n",
      "    - error: Na\n",
      "  stat_order_phone_valid:\n",
      "    - description: Na\n",
      "    - type: Na\n",
      "    - min_val: Na\n",
      "    - max_val: Na\n",
      "    - error: Na\n",
      "  stat_order_status_order:\n",
      "    - description: Na\n",
      "    - type: Na\n",
      "    - min_val: Na\n",
      "    - max_val: Na\n",
      "    - error: Na\n",
      "  stat_order_is_valid:\n",
      "    - description: Na\n",
      "    - type: Na\n",
      "    - min_val: Na\n",
      "    - max_val: Na\n",
      "    - error: Na\n",
      "  stat_order_is_call_fail:\n",
      "    - description: Na\n",
      "    - type: Na\n",
      "    - min_val: Na\n",
      "    - max_val: Na\n",
      "    - error: Na\n",
      "  stat_order_valid_error:\n",
      "    - description: Na\n",
      "    - type: Na\n",
      "    - min_val: Na\n",
      "    - max_val: Na\n",
      "    - error: Na\n",
      "  stat_order_webmaster_id:\n",
      "    - description: Na\n",
      "    - type: Na\n",
      "    - min_val: Na\n",
      "    - max_val: Na\n",
      "    - error: Na\n",
      "  stat_order_offer_id:\n",
      "    - description: Na\n",
      "    - type: Na\n",
      "    - min_val: Na\n",
      "    - max_val: Na\n",
      "    - error: Na\n",
      "  stat_order_landing_id:\n",
      "    - description: Na\n",
      "    - type: Na\n",
      "    - min_val: Na\n",
      "    - max_val: Na\n",
      "    - error: Na\n",
      "  stat_order_prelanding_id:\n",
      "    - description: Na\n",
      "    - type: Na\n",
      "    - min_val: Na\n",
      "    - max_val: Na\n",
      "    - error: Na\n",
      "  stat_order_money:\n",
      "    - description: Na\n",
      "    - type: Na\n",
      "    - min_val: Na\n",
      "    - max_val: Na\n",
      "    - error: Na\n",
      "  stat_order_count_call:\n",
      "    - description: Na\n",
      "    - type: Na\n",
      "    - min_val: Na\n",
      "    - max_val: Na\n",
      "    - error: Na\n",
      "  stat_order_last_call_ts:\n",
      "    - description: Na\n",
      "    - type: Na\n",
      "    - min_val: Na\n",
      "    - max_val: Na\n",
      "    - error: Na\n",
      "  stat_order_count_callback:\n",
      "    - description: Na\n",
      "    - type: Na\n",
      "    - min_val: Na\n",
      "    - max_val: Na\n",
      "    - error: Na\n",
      "  stat_order_good_count:\n",
      "    - description: Na\n",
      "    - type: Na\n",
      "    - min_val: Na\n",
      "    - max_val: Na\n",
      "    - error: Na\n",
      "  stat_order_phone_id:\n",
      "    - description: Na\n",
      "    - type: Na\n",
      "    - min_val: Na\n",
      "    - max_val: Na\n",
      "    - error: Na\n",
      "  stat_order_utm_source:\n",
      "    - description: Na\n",
      "    - type: Na\n",
      "    - min_val: Na\n",
      "    - max_val: Na\n",
      "    - error: Na\n",
      "  stat_order_utm_medium:\n",
      "    - description: Na\n",
      "    - type: Na\n",
      "    - min_val: Na\n",
      "    - max_val: Na\n",
      "    - error: Na\n",
      "  stat_order_utm_campaign:\n",
      "    - description: Na\n",
      "    - type: Na\n",
      "    - min_val: Na\n",
      "    - max_val: Na\n",
      "    - error: Na\n",
      "  stat_order_utm_content:\n",
      "    - description: Na\n",
      "    - type: Na\n",
      "    - min_val: Na\n",
      "    - max_val: Na\n",
      "    - error: Na\n",
      "  stat_order_utm_term:\n",
      "    - description: Na\n",
      "    - type: Na\n",
      "    - min_val: Na\n",
      "    - max_val: Na\n",
      "    - error: Na\n",
      "  stat_order_is_prepay:\n",
      "    - description: Na\n",
      "    - type: Na\n",
      "    - min_val: Na\n",
      "    - max_val: Na\n",
      "    - error: Na\n",
      "  stat_order_landing_price:\n",
      "    - description: Na\n",
      "    - type: Na\n",
      "    - min_val: Na\n",
      "    - max_val: Na\n",
      "    - error: Na\n",
      "  stat_order_landing_currency:\n",
      "    - description: Na\n",
      "    - type: Na\n",
      "    - min_val: Na\n",
      "    - max_val: Na\n",
      "    - error: Na\n",
      "  stat_order_time_before_open_form:\n",
      "    - description: Na\n",
      "    - type: Na\n",
      "    - min_val: Na\n",
      "    - max_val: Na\n",
      "    - error: Na\n",
      "  stat_order_account_manager_id:\n",
      "    - description: Na\n",
      "    - type: Na\n",
      "    - min_val: Na\n",
      "    - max_val: Na\n",
      "    - error: Na\n",
      "  stat_order_unique_goods:\n",
      "    - description: Na\n",
      "    - type: Na\n",
      "    - min_val: Na\n",
      "    - max_val: Na\n",
      "    - error: Na\n",
      "  stat_delivery_in_stock_ts:\n",
      "    - description: Na\n",
      "    - type: Na\n",
      "    - min_val: Na\n",
      "    - max_val: Na\n",
      "    - error: Na\n",
      "  stat_delivery_cancel_in_stock_ts:\n",
      "    - description: Na\n",
      "    - type: Na\n",
      "    - min_val: Na\n",
      "    - max_val: Na\n",
      "    - error: Na\n",
      "  stat_delivery_paid_ts:\n",
      "    - description: Na\n",
      "    - type: Na\n",
      "    - min_val: Na\n",
      "    - max_val: Na\n",
      "    - error: Na\n",
      "  stat_delivery_return_ts:\n",
      "    - description: Na\n",
      "    - type: Na\n",
      "    - min_val: Na\n",
      "    - max_val: Na\n",
      "    - error: Na\n",
      "  stat_delivery_good_count:\n",
      "    - description: Na\n",
      "    - type: Na\n",
      "    - min_val: Na\n",
      "    - max_val: Na\n",
      "    - error: Na\n",
      "  stat_delivery_delivery_status:\n",
      "    - description: Na\n",
      "    - type: Na\n",
      "    - min_val: Na\n",
      "    - max_val: Na\n",
      "    - error: Na\n",
      "  stat_delivery_manager_id:\n",
      "    - description: Na\n",
      "    - type: Na\n",
      "    - min_val: Na\n",
      "    - max_val: Na\n",
      "    - error: Na\n",
      "  stat_delivery_exception:\n",
      "    - description: Na\n",
      "    - type: Na\n",
      "    - min_val: Na\n",
      "    - max_val: Na\n",
      "    - error: Na\n",
      "  stat_delivery_finance_revise_ts:\n",
      "    - description: Na\n",
      "    - type: Na\n",
      "    - min_val: Na\n",
      "    - max_val: Na\n",
      "    - error: Na\n",
      "  stat_delivery_discount:\n",
      "    - description: Na\n",
      "    - type: Na\n",
      "    - min_val: Na\n",
      "    - max_val: Na\n",
      "    - error: Na\n",
      "  stat_delivery_discount_eur:\n",
      "    - description: Na\n",
      "    - type: Na\n",
      "    - min_val: Na\n",
      "    - max_val: Na\n",
      "    - error: Na\n",
      "  stat_delivery_operator_status:\n",
      "    - description: Na\n",
      "    - type: Na\n",
      "    - min_val: Na\n",
      "    - max_val: Na\n",
      "    - error: Na\n",
      "  stat_delivery_google_and_operator_address_match:\n",
      "    - description: Na\n",
      "    - type: Na\n",
      "    - min_val: Na\n",
      "    - max_val: Na\n",
      "    - error: Na\n",
      "  order_client_name:\n",
      "    - description: Na\n",
      "    - type: Na\n",
      "    - min_val: Na\n",
      "    - max_val: Na\n",
      "    - error: Na\n",
      "  order_client_surname:\n",
      "    - description: Na\n",
      "    - type: Na\n",
      "    - min_val: Na\n",
      "    - max_val: Na\n",
      "    - error: Na\n",
      "  order_client_additional_phone:\n",
      "    - description: Na\n",
      "    - type: Na\n",
      "    - min_val: Na\n",
      "    - max_val: Na\n",
      "    - error: Na\n",
      "  order_client_age:\n",
      "    - description: Na\n",
      "    - type: Na\n",
      "    - min_val: Na\n",
      "    - max_val: Na\n",
      "    - error: Na\n",
      "  order_client_age_unknown:\n",
      "    - description: Na\n",
      "    - type: Na\n",
      "    - min_val: Na\n",
      "    - max_val: Na\n",
      "    - error: Na\n",
      "  order_client_sex:\n",
      "    - description: Na\n",
      "    - type: Na\n",
      "    - min_val: Na\n",
      "    - max_val: Na\n",
      "    - error: Na\n",
      "  order_address_country:\n",
      "    - description: Na\n",
      "    - type: Na\n",
      "    - min_val: Na\n",
      "    - max_val: Na\n",
      "    - error: Na\n",
      "  order_address_region:\n",
      "    - description: Na\n",
      "    - type: Na\n",
      "    - min_val: Na\n",
      "    - max_val: Na\n",
      "    - error: Na\n",
      "  order_address_city:\n",
      "    - description: Na\n",
      "    - type: Na\n",
      "    - min_val: Na\n",
      "    - max_val: Na\n",
      "    - error: Na\n",
      "  order_address_street:\n",
      "    - description: Na\n",
      "    - type: Na\n",
      "    - min_val: Na\n",
      "    - max_val: Na\n",
      "    - error: Na\n",
      "  order_address_house:\n",
      "    - description: Na\n",
      "    - type: Na\n",
      "    - min_val: Na\n",
      "    - max_val: Na\n",
      "    - error: Na\n",
      "  order_address_housing:\n",
      "    - description: Na\n",
      "    - type: Na\n",
      "    - min_val: Na\n",
      "    - max_val: Na\n",
      "    - error: Na\n",
      "  order_address_apartment:\n",
      "    - description: Na\n",
      "    - type: Na\n",
      "    - min_val: Na\n",
      "    - max_val: Na\n",
      "    - error: Na\n",
      "  order_address_zip_code:\n",
      "    - description: Na\n",
      "    - type: Na\n",
      "    - min_val: Na\n",
      "    - max_val: Na\n",
      "    - error: Na\n"
     ],
     "output_type": "stream"
    }
   ],
   "source": [
    "print(\"\\n# \".join([\"# \",\n",
    "    \"description: обязательный\",\n",
    "        \" - строка, непустая, описание параметра, в расчетах не участвует, не проверяется\",\n",
    "    \"  \",\n",
    "    \"type: обязательный\",\n",
    "        \" - 'num' - скаляр, т.е. возможно сравнение на больше-меньше\",\n",
    "        \" - 'datetime' - дата и время, округляем до минут, \"\n",
    "        \"но если минут нет, например, только часы, то до максимальной оставшейся точности\",\n",
    "        \" - 'string' - признак, категориальный, для которого нет метрики сравнения, например id оператора\",\n",
    "        \" - 'Na' - not applied, не участвует (пока) в анализе, например, название улицы \",\n",
    "    \"  \",\n",
    "    \"min_val: необязательный\"\n",
    "        \" - минимально возможное значение для скаляра, если не скаляр, должен быть опущен или == 'Na' \"\n",
    "        \" если не определен или Na, то не проверяется\",\n",
    "        \" - 'Na'\",\n",
    "    \"  \",\n",
    "    \"max_val: необязательный, аналогично min_val\",\n",
    "    \"  \",\n",
    "    \"error: обязательный\"\n",
    "        \" - возвращаемая ошибка сервера, содержит имя параметра, для которого вызвана, например order_id, и причину, напр. typerror\",\n",
    "    \n",
    "    \" \\n\",\n",
    "]))\n",
    "\n",
    "print(\"protocol:\")\n",
    "print(f\"{' '*2}- !fields)\")\n",
    "for name in data.columns: # [:3]:\n",
    "    print(F\"{' '*2}{name}:\")\n",
    "    print(f\"{' '*4}- description: Na\", )\n",
    "    print(f\"{' '*4}- type: Na\", )\n",
    "    print(f\"{' '*4}- min_val: Na\", )\n",
    "    print(f\"{' '*4}- max_val: Na\", )\n",
    "    print(f\"{' '*4}- error: Na\", )\n"
   ],
   "metadata": {
    "collapsed": false,
    "pycharm": {
     "name": "#%%\n",
     "is_executing": false
    }
   }
  },
  {
   "cell_type": "code",
   "execution_count": 24,
   "outputs": [],
   "source": [
    "\n"
   ],
   "metadata": {
    "collapsed": false,
    "pycharm": {
     "name": "#%%\n",
     "is_executing": false
    }
   }
  }
 ],
 "metadata": {
  "kernelspec": {
   "display_name": "Python 3",
   "language": "python",
   "name": "python3"
  },
  "language_info": {
   "codemirror_mode": {
    "name": "ipython",
    "version": 2
   },
   "file_extension": ".py",
   "mimetype": "text/x-python",
   "name": "python",
   "nbconvert_exporter": "python",
   "pygments_lexer": "ipython2",
   "version": "2.7.6"
  },
  "pycharm": {
   "stem_cell": {
    "cell_type": "raw",
    "source": [],
    "metadata": {
     "collapsed": false
    }
   }
  }
 },
 "nbformat": 4,
 "nbformat_minor": 0
}