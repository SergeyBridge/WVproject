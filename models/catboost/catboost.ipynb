{
 "cells": [
  {
   "cell_type": "code",
   "execution_count": 2,
   "metadata": {
    "collapsed": true,
    "pycharm": {
     "is_executing": false
    }
   },
   "outputs": [],
   "source": [
    "import pandas as pd\n",
    "import numpy as np\n",
    "import yaml\n",
    "from configurations import data_protocol\n",
    "import catboost_data_engine as engine"
   ]
  },
  {
   "cell_type": "code",
   "execution_count": 3,
   "outputs": [
    {
     "name": "stdout",
     "text": [
      "  order_id stat_order_created_ts stat_order_processed_user_id  \\\n",
      "0  1897739                  None                         8204   \n",
      "1  1897743                  None                         8026   \n",
      "2  1897745                  None                         9245   \n",
      "3  1897765                  None                        12419   \n",
      "4  1897791                  None                        14631   \n",
      "\n",
      "  stat_order_confirmed_ts stat_order_confirmed_user_id stat_order_callback_ts  \\\n",
      "0                    None                         8204                   None   \n",
      "1                    None                         8026                   None   \n",
      "2                    None                         9245                   None   \n",
      "3                    None                        12419                   None   \n",
      "4                    None                        14631                   None   \n",
      "\n",
      "  stat_order_lead_ts stat_order_operator_id stat_order_rejection_reason  \\\n",
      "0               None                   8204                        None   \n",
      "1               None                   8026                        None   \n",
      "2               None                   9245                        None   \n",
      "3               None                  12419                        None   \n",
      "4               None                  14631                        None   \n",
      "\n",
      "  stat_order_invalid_reason  ... order_client_age_unknown order_client_sex  \\\n",
      "0                      None  ...                     None             male   \n",
      "1                      None  ...                     None             male   \n",
      "2                      None  ...                     None             male   \n",
      "3                      None  ...                     None             male   \n",
      "4                      None  ...                     None             male   \n",
      "\n",
      "  order_address_country order_address_region order_address_city  \\\n",
      "0                  None                 None               None   \n",
      "1                  None                 None               None   \n",
      "2                  None                 None               None   \n",
      "3                  None                 None               None   \n",
      "4                  None                 None               None   \n",
      "\n",
      "   order_address_street order_address_house order_address_housing  \\\n",
      "0                  None                None                  None   \n",
      "1                  None                None                  None   \n",
      "2                  None                None                  None   \n",
      "3                  None                None                  None   \n",
      "4                  None                None                  None   \n",
      "\n",
      "  order_address_apartment order_address_zip_code  \n",
      "0                    None                   None  \n",
      "1                    None                   None  \n",
      "2                    None                   None  \n",
      "3                    None                   None  \n",
      "4                    None                   None  \n",
      "\n",
      "[5 rows x 73 columns]\n"
     ],
     "output_type": "stream"
    }
   ],
   "source": [
    "data_file = \"/home/sergey/mnt/st1500/Usr/Sergey/TheJob/clientsProjects/data/Webvork/real_2019-12-01-2019-12-31.csv\" \n",
    "protocol_file = \"/home/sergey/mnt/st1500/Usr/Sergey/TheJob/clientsProjects/WVproject/configurations/protocol.yaml\"\n",
    "\n",
    "en = engine.RealDataEngineCatboost(\n",
    "    data_file=data_file,\n",
    "    protocol_file=protocol_file,\n",
    "    test_fraction=3)\n",
    "\n",
    "data = en._data\n",
    "print(data.head())\n",
    "\n"
   ],
   "metadata": {
    "collapsed": false,
    "pycharm": {
     "name": "#%%\n",
     "is_executing": false
    }
   }
  },
  {
   "cell_type": "code",
   "execution_count": 41,
   "outputs": [
    {
     "name": "stderr",
     "text": [
      "/home/sergey/anaconda3/envs/WVproject/lib/python3.7/site-packages/IPython/core/interactiveshell.py:3063: DtypeWarning: Columns (72) have mixed types.Specify dtype option on import or set low_memory=False.\n",
      "  interactivity=interactivity, compiler=compiler, result=result)\n"
     ],
     "output_type": "stream"
    },
    {
     "data": {
      "text/plain": "         stat_order_created_ts  stat_order_processed_user_id  \\\norder_id                                                       \n1897739    2019-12-01 00:11:48                          8204   \n1897743    2019-12-01 00:12:33                          8026   \n1897745    2019-12-01 00:12:54                          9245   \n1897765    2019-12-01 00:26:07                         12419   \n1897791    2019-12-01 00:34:46                         14631   \n\n         stat_order_confirmed_ts  stat_order_confirmed_user_id  \\\norder_id                                                         \n1897739      2019-12-02 09:53:03                          8204   \n1897743      2019-12-01 10:13:22                          8026   \n1897745      2019-12-01 11:12:37                          9245   \n1897765      2019-12-01 13:09:38                         12419   \n1897791      2019-12-12 17:32:03                         14631   \n\n          stat_order_callback_ts   stat_order_lead_ts  stat_order_operator_id  \\\norder_id                                                                        \n1897739                      NaN  2019-12-01 00:11:48                    8204   \n1897743                      NaN  2019-12-01 00:12:33                    8026   \n1897745                      NaN  2019-12-01 00:12:54                    9245   \n1897765                      NaN  2019-12-01 00:26:07                   12419   \n1897791                      NaN  2019-12-01 00:34:46                   14631   \n\n          stat_order_rejection_reason  stat_order_invalid_reason  \\\norder_id                                                           \n1897739                           NaN                        NaN   \n1897743                           NaN                        NaN   \n1897745                           NaN                        NaN   \n1897765                           NaN                        NaN   \n1897791                           NaN                        NaN   \n\n         stat_order_country  ... order_client_age_unknown order_client_sex  \\\norder_id                     ...                                             \n1897739                  IT  ...                      NaN             male   \n1897743                  IT  ...                      NaN             male   \n1897745                  IT  ...                      NaN             male   \n1897765                  DE  ...                      NaN             male   \n1897791                  IT  ...                      NaN             male   \n\n          order_address_country order_address_region  order_address_city  \\\norder_id                                                                   \n1897739                      IT                  NaN              Napoli   \n1897743                      IT                   GE              Genova   \n1897745                      IT                   RM                Roma   \n1897765                      DE                   BE              Berlin   \n1897791                      IT                   RC     Bovalino Marino   \n\n           order_address_street order_address_house  order_address_housing  \\\norder_id                                                                     \n1897739    Via Giacinto Gigante                   2                      -   \n1897743   Via Alcide de Gasperi                  12                    NaN   \n1897745        Via Montefiorino                  26                      -   \n1897765       Fritz-Erler-Allee                  62                      -   \n1897791    Francesco Calfapetra                  13                      -   \n\n         order_address_apartment  order_address_zip_code  \norder_id                                                  \n1897739                        -                   80136  \n1897743                        -                   16166  \n1897745                        -                   00188  \n1897765                        -                   12351  \n1897791                        -                   89034  \n\n[5 rows x 72 columns]",
      "text/html": "<div>\n<style scoped>\n    .dataframe tbody tr th:only-of-type {\n        vertical-align: middle;\n    }\n\n    .dataframe tbody tr th {\n        vertical-align: top;\n    }\n\n    .dataframe thead th {\n        text-align: right;\n    }\n</style>\n<table border=\"1\" class=\"dataframe\">\n  <thead>\n    <tr style=\"text-align: right;\">\n      <th></th>\n      <th>stat_order_created_ts</th>\n      <th>stat_order_processed_user_id</th>\n      <th>stat_order_confirmed_ts</th>\n      <th>stat_order_confirmed_user_id</th>\n      <th>stat_order_callback_ts</th>\n      <th>stat_order_lead_ts</th>\n      <th>stat_order_operator_id</th>\n      <th>stat_order_rejection_reason</th>\n      <th>stat_order_invalid_reason</th>\n      <th>stat_order_country</th>\n      <th>...</th>\n      <th>order_client_age_unknown</th>\n      <th>order_client_sex</th>\n      <th>order_address_country</th>\n      <th>order_address_region</th>\n      <th>order_address_city</th>\n      <th>order_address_street</th>\n      <th>order_address_house</th>\n      <th>order_address_housing</th>\n      <th>order_address_apartment</th>\n      <th>order_address_zip_code</th>\n    </tr>\n    <tr>\n      <th>order_id</th>\n      <th></th>\n      <th></th>\n      <th></th>\n      <th></th>\n      <th></th>\n      <th></th>\n      <th></th>\n      <th></th>\n      <th></th>\n      <th></th>\n      <th></th>\n      <th></th>\n      <th></th>\n      <th></th>\n      <th></th>\n      <th></th>\n      <th></th>\n      <th></th>\n      <th></th>\n      <th></th>\n      <th></th>\n    </tr>\n  </thead>\n  <tbody>\n    <tr>\n      <th>1897739</th>\n      <td>2019-12-01 00:11:48</td>\n      <td>8204</td>\n      <td>2019-12-02 09:53:03</td>\n      <td>8204</td>\n      <td>NaN</td>\n      <td>2019-12-01 00:11:48</td>\n      <td>8204</td>\n      <td>NaN</td>\n      <td>NaN</td>\n      <td>IT</td>\n      <td>...</td>\n      <td>NaN</td>\n      <td>male</td>\n      <td>IT</td>\n      <td>NaN</td>\n      <td>Napoli</td>\n      <td>Via Giacinto Gigante</td>\n      <td>2</td>\n      <td>-</td>\n      <td>-</td>\n      <td>80136</td>\n    </tr>\n    <tr>\n      <th>1897743</th>\n      <td>2019-12-01 00:12:33</td>\n      <td>8026</td>\n      <td>2019-12-01 10:13:22</td>\n      <td>8026</td>\n      <td>NaN</td>\n      <td>2019-12-01 00:12:33</td>\n      <td>8026</td>\n      <td>NaN</td>\n      <td>NaN</td>\n      <td>IT</td>\n      <td>...</td>\n      <td>NaN</td>\n      <td>male</td>\n      <td>IT</td>\n      <td>GE</td>\n      <td>Genova</td>\n      <td>Via Alcide de Gasperi</td>\n      <td>12</td>\n      <td>NaN</td>\n      <td>-</td>\n      <td>16166</td>\n    </tr>\n    <tr>\n      <th>1897745</th>\n      <td>2019-12-01 00:12:54</td>\n      <td>9245</td>\n      <td>2019-12-01 11:12:37</td>\n      <td>9245</td>\n      <td>NaN</td>\n      <td>2019-12-01 00:12:54</td>\n      <td>9245</td>\n      <td>NaN</td>\n      <td>NaN</td>\n      <td>IT</td>\n      <td>...</td>\n      <td>NaN</td>\n      <td>male</td>\n      <td>IT</td>\n      <td>RM</td>\n      <td>Roma</td>\n      <td>Via Montefiorino</td>\n      <td>26</td>\n      <td>-</td>\n      <td>-</td>\n      <td>00188</td>\n    </tr>\n    <tr>\n      <th>1897765</th>\n      <td>2019-12-01 00:26:07</td>\n      <td>12419</td>\n      <td>2019-12-01 13:09:38</td>\n      <td>12419</td>\n      <td>NaN</td>\n      <td>2019-12-01 00:26:07</td>\n      <td>12419</td>\n      <td>NaN</td>\n      <td>NaN</td>\n      <td>DE</td>\n      <td>...</td>\n      <td>NaN</td>\n      <td>male</td>\n      <td>DE</td>\n      <td>BE</td>\n      <td>Berlin</td>\n      <td>Fritz-Erler-Allee</td>\n      <td>62</td>\n      <td>-</td>\n      <td>-</td>\n      <td>12351</td>\n    </tr>\n    <tr>\n      <th>1897791</th>\n      <td>2019-12-01 00:34:46</td>\n      <td>14631</td>\n      <td>2019-12-12 17:32:03</td>\n      <td>14631</td>\n      <td>NaN</td>\n      <td>2019-12-01 00:34:46</td>\n      <td>14631</td>\n      <td>NaN</td>\n      <td>NaN</td>\n      <td>IT</td>\n      <td>...</td>\n      <td>NaN</td>\n      <td>male</td>\n      <td>IT</td>\n      <td>RC</td>\n      <td>Bovalino Marino</td>\n      <td>Francesco Calfapetra</td>\n      <td>13</td>\n      <td>-</td>\n      <td>-</td>\n      <td>89034</td>\n    </tr>\n  </tbody>\n</table>\n<p>5 rows × 72 columns</p>\n</div>"
     },
     "metadata": {},
     "output_type": "execute_result",
     "execution_count": 41
    }
   ],
   "source": [
    "da = pd.read_csv(data_file, sep=\";\", index_col=\"order_id\")\n",
    "\n",
    "da.head()"
   ],
   "metadata": {
    "collapsed": false,
    "pycharm": {
     "name": "#%%\n",
     "is_executing": false
    }
   }
  },
  {
   "cell_type": "code",
   "execution_count": 4,
   "outputs": [
    {
     "data": {
      "text/plain": "(8632, 73)"
     },
     "metadata": {},
     "output_type": "execute_result",
     "execution_count": 4
    }
   ],
   "source": [
    "data.shape"
   ],
   "metadata": {
    "collapsed": false,
    "pycharm": {
     "name": "#%%\n",
     "is_executing": false
    }
   }
  },
  {
   "cell_type": "code",
   "execution_count": 5,
   "outputs": [
    {
     "data": {
      "text/plain": "Index(['order_id', 'stat_order_created_ts', 'stat_order_processed_user_id',\n       'stat_order_confirmed_ts', 'stat_order_confirmed_user_id',\n       'stat_order_callback_ts', 'stat_order_lead_ts',\n       'stat_order_operator_id', 'stat_order_rejection_reason',\n       'stat_order_invalid_reason', 'stat_order_country',\n       'stat_order_country_ip', 'stat_order_country_phone',\n       'stat_order_region', 'stat_order_city', 'stat_order_delivery_price',\n       'stat_order_payment_method', 'stat_order_phone_geocoder',\n       'stat_order_phone_valid', 'stat_order_status_order',\n       'stat_order_is_valid', 'stat_order_is_call_fail',\n       'stat_order_valid_error', 'stat_order_webmaster_id',\n       'stat_order_offer_id', 'stat_order_landing_id',\n       'stat_order_prelanding_id', 'stat_order_money', 'stat_order_count_call',\n       'stat_order_last_call_ts', 'stat_order_count_callback',\n       'stat_order_good_count', 'stat_order_phone_id', 'stat_order_utm_source',\n       'stat_order_utm_medium', 'stat_order_utm_campaign',\n       'stat_order_utm_content', 'stat_order_utm_term', 'stat_order_is_prepay',\n       'stat_order_landing_price', 'stat_order_landing_currency',\n       'stat_order_time_before_open_form', 'stat_order_account_manager_id',\n       'stat_order_unique_goods', 'stat_delivery_in_stock_ts',\n       'stat_delivery_cancel_in_stock_ts', 'stat_delivery_paid_ts',\n       'stat_delivery_return_ts', 'stat_delivery_good_count',\n       'stat_delivery_is_paid', 'stat_delivery_is_return',\n       'stat_delivery_delivery_status', 'stat_delivery_manager_id',\n       'stat_delivery_exception', 'stat_delivery_finance_revise_ts',\n       'stat_delivery_discount', 'stat_delivery_discount_eur',\n       'stat_delivery_operator_status',\n       'stat_delivery_google_and_operator_address_match', 'order_client_name',\n       'order_client_surname', 'order_client_additional_phone',\n       'order_client_age', 'order_client_age_unknown', 'order_client_sex',\n       'order_address_country', 'order_address_region', 'order_address_city',\n       'order_address_street', 'order_address_house', 'order_address_housing',\n       'order_address_apartment', 'order_address_zip_code'],\n      dtype='object')"
     },
     "metadata": {},
     "output_type": "execute_result",
     "execution_count": 5
    }
   ],
   "source": [
    "len(data.columns)\n",
    "data.columns\n"
   ],
   "metadata": {
    "collapsed": false,
    "pycharm": {
     "name": "#%%\n",
     "is_executing": false
    }
   }
  },
  {
   "cell_type": "code",
   "execution_count": 6,
   "outputs": [
    {
     "data": {
      "text/plain": "71"
     },
     "metadata": {},
     "output_type": "execute_result",
     "execution_count": 6
    }
   ],
   "source": [
    "data.columns.get_loc('stat_order_money')\n",
    "data.columns.get_loc('order_address_apartment')"
   ],
   "metadata": {
    "collapsed": false,
    "pycharm": {
     "name": "#%%\n",
     "is_executing": false
    }
   }
  },
  {
   "cell_type": "code",
   "execution_count": 7,
   "outputs": [
    {
     "name": "stdout",
     "text": [
      "p                    6808\n",
      "r                    1796\n",
      "p+r                  8604\n",
      "всего данных         8632\n",
      "где-то потерялось     -28\n",
      "dtype: int64\n"
     ],
     "output_type": "stream"
    }
   ],
   "source": [
    "p = data['stat_delivery_is_paid'].count()\n",
    "r = data['stat_delivery_is_return'].count()\n",
    "\n",
    "series = pd.Series(data={\"p\": p, \"r\": r, \"p+r\": p+r, \n",
    "                          \"всего данных\": data.shape[0], \"где-то потерялось\": p+r-data.shape[0]}    ) \n",
    "\n",
    "print(series)"
   ],
   "metadata": {
    "collapsed": false,
    "pycharm": {
     "name": "#%%\n",
     "is_executing": false
    }
   }
  },
  {
   "cell_type": "code",
   "execution_count": 8,
   "outputs": [
    {
     "data": {
      "text/plain": "array([49, 50])"
     },
     "metadata": {},
     "output_type": "execute_result",
     "execution_count": 8
    }
   ],
   "source": [
    "stats = np.ravel(np.where(np.char.startswith(list(data.columns), \n",
    "                                    prefix=\"stat_delivery_is\")))\n",
    "stats"
   ],
   "metadata": {
    "collapsed": false,
    "pycharm": {
     "name": "#%%\n",
     "is_executing": false
    }
   }
  },
  {
   "cell_type": "code",
   "execution_count": 9,
   "outputs": [
    {
     "name": "stdout",
     "text": [
      "stat_delivery_is_paid\n",
      "stat_delivery_is_return\n"
     ],
     "output_type": "stream"
    }
   ],
   "source": [
    " \n",
    "for raw in list(data.columns):\n",
    "   if raw.startswith(\"stat_delivery_is\"):\n",
    "       print(raw)\n"
   ],
   "metadata": {
    "collapsed": false,
    "pycharm": {
     "name": "#%%\n",
     "is_executing": false
    }
   }
  },
  {
   "cell_type": "code",
   "execution_count": 10,
   "outputs": [],
   "source": [
    "for col in data.columns:\n",
    "    if data[col].count() == 28:\n",
    "        print(col)\n",
    "\n"
   ],
   "metadata": {
    "collapsed": false,
    "pycharm": {
     "name": "#%%\n",
     "is_executing": false
    }
   }
  },
  {
   "cell_type": "code",
   "execution_count": 11,
   "outputs": [
    {
     "data": {
      "text/plain": "0       None\n1       None\n2       None\n3       None\n4       None\n        ... \n8627    None\n8628    None\n8629    None\n8630    None\n8631    None\nName: order_address_zip_code, Length: 8632, dtype: object"
     },
     "metadata": {},
     "output_type": "execute_result",
     "execution_count": 11
    }
   ],
   "source": [
    "data['order_address_zip_code']\n",
    "\n"
   ],
   "metadata": {
    "collapsed": false,
    "pycharm": {
     "name": "#%%\n",
     "is_executing": false
    }
   }
  },
  {
   "cell_type": "code",
   "execution_count": 12,
   "outputs": [
    {
     "name": "stdout",
     "text": [
      "0    1897739\n",
      "Name: order_id, dtype: object\n",
      "0    None\n",
      "Name: stat_order_created_ts, dtype: object\n",
      "0    8204\n",
      "Name: stat_order_processed_user_id, dtype: object\n",
      "0    None\n",
      "Name: stat_order_confirmed_ts, dtype: object\n",
      "0    8204\n",
      "Name: stat_order_confirmed_user_id, dtype: object\n",
      "0    None\n",
      "Name: stat_order_callback_ts, dtype: object\n",
      "0    None\n",
      "Name: stat_order_lead_ts, dtype: object\n",
      "0    8204\n",
      "Name: stat_order_operator_id, dtype: object\n",
      "0    None\n",
      "Name: stat_order_rejection_reason, dtype: object\n",
      "0    None\n",
      "Name: stat_order_invalid_reason, dtype: object\n",
      "0    None\n",
      "Name: stat_order_country, dtype: object\n",
      "0    None\n",
      "Name: stat_order_country_ip, dtype: object\n",
      "0    None\n",
      "Name: stat_order_country_phone, dtype: object\n",
      "0    nan\n",
      "Name: stat_order_region, dtype: object\n",
      "0    None\n",
      "Name: stat_order_city, dtype: object\n",
      "0   NaN\n",
      "Name: stat_order_delivery_price, dtype: float64\n",
      "0    None\n",
      "Name: stat_order_payment_method, dtype: object\n",
      "0    None\n",
      "Name: stat_order_phone_geocoder, dtype: object\n",
      "0    None\n",
      "Name: stat_order_phone_valid, dtype: object\n",
      "0    None\n",
      "Name: stat_order_status_order, dtype: object\n",
      "0    None\n",
      "Name: stat_order_is_valid, dtype: object\n",
      "0    None\n",
      "Name: stat_order_is_call_fail, dtype: object\n",
      "0    None\n",
      "Name: stat_order_valid_error, dtype: object\n",
      "0    None\n",
      "Name: stat_order_webmaster_id, dtype: object\n",
      "0    None\n",
      "Name: stat_order_offer_id, dtype: object\n",
      "0    None\n",
      "Name: stat_order_landing_id, dtype: object\n",
      "0    None\n",
      "Name: stat_order_prelanding_id, dtype: object\n",
      "0    None\n",
      "Name: stat_order_money, dtype: object\n",
      "0    None\n",
      "Name: stat_order_count_call, dtype: object\n",
      "0    None\n",
      "Name: stat_order_last_call_ts, dtype: object\n",
      "0    None\n",
      "Name: stat_order_count_callback, dtype: object\n",
      "0    None\n",
      "Name: stat_order_good_count, dtype: object\n",
      "0    None\n",
      "Name: stat_order_phone_id, dtype: object\n",
      "0    None\n",
      "Name: stat_order_utm_source, dtype: object\n",
      "0    None\n",
      "Name: stat_order_utm_medium, dtype: object\n",
      "0    None\n",
      "Name: stat_order_utm_campaign, dtype: object\n",
      "0    None\n",
      "Name: stat_order_utm_content, dtype: object\n",
      "0    None\n",
      "Name: stat_order_utm_term, dtype: object\n",
      "0    None\n",
      "Name: stat_order_is_prepay, dtype: object\n",
      "0   NaN\n",
      "Name: stat_order_landing_price, dtype: float64\n",
      "0    None\n",
      "Name: stat_order_landing_currency, dtype: object\n",
      "0    None\n",
      "Name: stat_order_time_before_open_form, dtype: object\n",
      "0    5845\n",
      "Name: stat_order_account_manager_id, dtype: object\n",
      "0    None\n",
      "Name: stat_order_unique_goods, dtype: object\n",
      "0    None\n",
      "Name: stat_delivery_in_stock_ts, dtype: object\n",
      "0    None\n",
      "Name: stat_delivery_cancel_in_stock_ts, dtype: object\n",
      "0    None\n",
      "Name: stat_delivery_paid_ts, dtype: object\n",
      "0    None\n",
      "Name: stat_delivery_return_ts, dtype: object\n",
      "0    5\n",
      "Name: stat_delivery_good_count, dtype: int64\n",
      "0    1.0\n",
      "Name: stat_delivery_is_paid, dtype: float64\n",
      "0   NaN\n",
      "Name: stat_delivery_is_return, dtype: float64\n",
      "0    None\n",
      "Name: stat_delivery_delivery_status, dtype: object\n",
      "0    None\n",
      "Name: stat_delivery_manager_id, dtype: object\n",
      "0    None\n",
      "Name: stat_delivery_exception, dtype: object\n",
      "0    None\n",
      "Name: stat_delivery_finance_revise_ts, dtype: object\n",
      "0    None\n",
      "Name: stat_delivery_discount, dtype: object\n",
      "0    None\n",
      "Name: stat_delivery_discount_eur, dtype: object\n",
      "0    None\n",
      "Name: stat_delivery_operator_status, dtype: object\n",
      "0    None\n",
      "Name: stat_delivery_google_and_operator_address_match, dtype: object\n",
      "0    None\n",
      "Name: order_client_name, dtype: object\n",
      "0    None\n",
      "Name: order_client_surname, dtype: object\n",
      "0    None\n",
      "Name: order_client_additional_phone, dtype: object\n",
      "0    None\n",
      "Name: order_client_age, dtype: object\n",
      "0    None\n",
      "Name: order_client_age_unknown, dtype: object\n",
      "0    male\n",
      "Name: order_client_sex, dtype: object\n",
      "0    None\n",
      "Name: order_address_country, dtype: object\n",
      "0    None\n",
      "Name: order_address_region, dtype: object\n",
      "0    None\n",
      "Name: order_address_city, dtype: object\n",
      "0    None\n",
      "Name: order_address_street, dtype: object\n",
      "0    None\n",
      "Name: order_address_house, dtype: object\n",
      "0    None\n",
      "Name: order_address_housing, dtype: object\n",
      "0    None\n",
      "Name: order_address_apartment, dtype: object\n",
      "0    None\n",
      "Name: order_address_zip_code, dtype: object\n"
     ],
     "output_type": "stream"
    }
   ],
   "source": [
    "\n",
    "for col in data:\n",
    "    print(data[col][:1])\n"
   ],
   "metadata": {
    "collapsed": false,
    "pycharm": {
     "name": "#%%\n",
     "is_executing": false
    }
   }
  },
  {
   "cell_type": "code",
   "execution_count": 13,
   "outputs": [
    {
     "data": {
      "text/plain": "0       NaN\n1       NaN\n2       NaN\n3       1.0\n4       NaN\n       ... \n8627    NaN\n8628    NaN\n8629    1.0\n8630    NaN\n8631    NaN\nName: stat_delivery_is_return, Length: 8632, dtype: float64"
     },
     "metadata": {},
     "output_type": "execute_result",
     "execution_count": 13
    }
   ],
   "source": [
    "data[\"stat_delivery_is_return\"]"
   ],
   "metadata": {
    "collapsed": false,
    "pycharm": {
     "name": "#%%\n",
     "is_executing": false
    }
   }
  },
  {
   "cell_type": "code",
   "execution_count": 14,
   "outputs": [
    {
     "name": "stdout",
     "text": [
      "0      -0.0\n",
      "1      -0.0\n",
      "2      -0.0\n",
      "3      -1.0\n",
      "4      -0.0\n",
      "       ... \n",
      "8627   -0.0\n",
      "8628   -0.0\n",
      "8629   -1.0\n",
      "8630   -0.0\n",
      "8631   -0.0\n",
      "Name: stat_delivery_is_return, Length: 8632, dtype: float64\n"
     ],
     "output_type": "stream"
    }
   ],
   "source": [
    "data[\"stat_delivery_is_return\"].fillna(value=0, inplace=True)\n",
    "data[\"stat_delivery_is_paid\"].fillna(value=0, inplace=True)\n",
    "\n",
    "\n",
    "\n",
    "\n",
    "data.loc[:, \"stat_delivery_is_return\"] = -data[\"stat_delivery_is_return\"]\n",
    "\n",
    "print(data[\"stat_delivery_is_return\"])"
   ],
   "metadata": {
    "collapsed": false,
    "pycharm": {
     "name": "#%%\n",
     "is_executing": false
    }
   }
  },
  {
   "cell_type": "code",
   "execution_count": 15,
   "outputs": [
    {
     "name": "stdout",
     "text": [
      "0       1\n",
      "1       1\n",
      "2       1\n",
      "3      -1\n",
      "4       1\n",
      "       ..\n",
      "8627    1\n",
      "8628    1\n",
      "8629   -1\n",
      "8630    1\n",
      "8631    1\n",
      "Length: 8632, dtype: int64\n"
     ],
     "output_type": "stream"
    }
   ],
   "source": [
    "binary_target = data.pop(\"stat_delivery_is_paid\").add(\n",
    "    data.pop(\"stat_delivery_is_return\")).astype(int)\n",
    "\n",
    "print(binary_target)"
   ],
   "metadata": {
    "collapsed": false,
    "pycharm": {
     "name": "#%%\n",
     "is_executing": false
    }
   }
  },
  {
   "cell_type": "code",
   "execution_count": 16,
   "outputs": [],
   "source": [
    "cat_features_names = ['order_id', 'stat_order_processed_user_id',\n",
    "       'stat_order_confirmed_user_id',\n",
    "       'stat_order_operator_id', 'stat_order_rejection_reason',\n",
    "       'stat_order_invalid_reason', 'stat_order_country',\n",
    "       'stat_order_country_ip', 'stat_order_country_phone',\n",
    "       'stat_order_region', 'stat_order_city', \n",
    "       'stat_order_payment_method', 'stat_order_phone_geocoder',\n",
    "       'stat_order_phone_valid', 'stat_order_status_order',\n",
    "       'stat_order_is_valid', 'stat_order_is_call_fail',\n",
    "       'stat_order_valid_error', 'stat_order_webmaster_id',\n",
    "       'stat_order_offer_id', 'stat_order_landing_id',\n",
    "       'stat_order_prelanding_id', \n",
    "       'stat_order_good_count', 'stat_order_phone_id', 'stat_order_utm_source',\n",
    "       'stat_order_utm_medium', 'stat_order_utm_campaign',\n",
    "       'stat_order_utm_content', 'stat_order_utm_term', 'stat_order_is_prepay',\n",
    "       'stat_order_landing_currency',\n",
    "       'stat_order_account_manager_id',\n",
    "       'stat_order_unique_goods',\n",
    "       'stat_delivery_good_count',\n",
    "       'stat_delivery_delivery_status', 'stat_delivery_manager_id',\n",
    "       'stat_delivery_exception',\n",
    "       'stat_delivery_operator_status',\n",
    "       'stat_delivery_google_and_operator_address_match', 'order_client_name',\n",
    "       'order_client_surname', 'order_client_additional_phone',\n",
    "       'order_client_age', 'order_client_age_unknown', 'order_client_sex',\n",
    "       'order_address_country', 'order_address_region', 'order_address_city',\n",
    "       'order_address_street', 'order_address_house', 'order_address_housing',\n",
    "       'order_address_apartment', 'order_address_zip_code']\n",
    "\n"
   ],
   "metadata": {
    "collapsed": false,
    "pycharm": {
     "name": "#%%\n",
     "is_executing": false
    }
   }
  },
  {
   "cell_type": "code",
   "execution_count": 17,
   "outputs": [
    {
     "data": {
      "text/plain": "[0,\n 2,\n 4,\n 7,\n 8,\n 9,\n 10,\n 11,\n 12,\n 13,\n 14,\n 16,\n 17,\n 18,\n 19,\n 20,\n 21,\n 22,\n 23,\n 24,\n 25,\n 26,\n 31,\n 32,\n 33,\n 34,\n 35,\n 36,\n 37,\n 38,\n 40,\n 42,\n 43,\n 48,\n 49,\n 50,\n 51,\n 55,\n 56,\n 57,\n 58,\n 59,\n 60,\n 61,\n 62,\n 63,\n 64,\n 65,\n 66,\n 67,\n 68,\n 69,\n 70]"
     },
     "metadata": {},
     "output_type": "execute_result",
     "execution_count": 17
    }
   ],
   "source": [
    "ii = [data.columns.get_loc(x) for x in cat_features_names] \n",
    "ii\n"
   ],
   "metadata": {
    "collapsed": false,
    "pycharm": {
     "name": "#%%\n",
     "is_executing": false
    }
   }
  },
  {
   "cell_type": "code",
   "execution_count": 18,
   "outputs": [
    {
     "data": {
      "text/plain": "  order_id stat_order_created_ts stat_order_processed_user_id  \\\n1  1897743                  None                         8026   \n2  1897745                  None                         9245   \n3  1897765                  None                        12419   \n4  1897791                  None                        14631   \n6  1897809                  None                        12419   \n\n  stat_order_confirmed_ts stat_order_confirmed_user_id stat_order_callback_ts  \\\n1                    None                         8026                   None   \n2                    None                         9245                   None   \n3                    None                        12419                   None   \n4                    None                        14631                   None   \n6                    None                        12419                   None   \n\n  stat_order_lead_ts stat_order_operator_id stat_order_rejection_reason  \\\n1               None                   8026                        None   \n2               None                   9245                        None   \n3               None                  12419                        None   \n4               None                  14631                        None   \n6               None                  12419                        None   \n\n  stat_order_invalid_reason  ... order_client_age_unknown order_client_sex  \\\n1                      None  ...                     None             male   \n2                      None  ...                     None             male   \n3                      None  ...                     None             male   \n4                      None  ...                     None             male   \n6                      None  ...                     None           female   \n\n  order_address_country order_address_region order_address_city  \\\n1                  None                 None               None   \n2                  None                 None               None   \n3                  None                 None               None   \n4                  None                 None               None   \n6                  None                 None               None   \n\n   order_address_street order_address_house order_address_housing  \\\n1                  None                None                  None   \n2                  None                None                  None   \n3                  None                None                  None   \n4                  None                None                  None   \n6                  None                None                  None   \n\n  order_address_apartment order_address_zip_code  \n1                    None                   None  \n2                    None                   None  \n3                    None                   None  \n4                    None                   None  \n6                    None                   None  \n\n[5 rows x 71 columns]",
      "text/html": "<div>\n<style scoped>\n    .dataframe tbody tr th:only-of-type {\n        vertical-align: middle;\n    }\n\n    .dataframe tbody tr th {\n        vertical-align: top;\n    }\n\n    .dataframe thead th {\n        text-align: right;\n    }\n</style>\n<table border=\"1\" class=\"dataframe\">\n  <thead>\n    <tr style=\"text-align: right;\">\n      <th></th>\n      <th>order_id</th>\n      <th>stat_order_created_ts</th>\n      <th>stat_order_processed_user_id</th>\n      <th>stat_order_confirmed_ts</th>\n      <th>stat_order_confirmed_user_id</th>\n      <th>stat_order_callback_ts</th>\n      <th>stat_order_lead_ts</th>\n      <th>stat_order_operator_id</th>\n      <th>stat_order_rejection_reason</th>\n      <th>stat_order_invalid_reason</th>\n      <th>...</th>\n      <th>order_client_age_unknown</th>\n      <th>order_client_sex</th>\n      <th>order_address_country</th>\n      <th>order_address_region</th>\n      <th>order_address_city</th>\n      <th>order_address_street</th>\n      <th>order_address_house</th>\n      <th>order_address_housing</th>\n      <th>order_address_apartment</th>\n      <th>order_address_zip_code</th>\n    </tr>\n  </thead>\n  <tbody>\n    <tr>\n      <th>1</th>\n      <td>1897743</td>\n      <td>None</td>\n      <td>8026</td>\n      <td>None</td>\n      <td>8026</td>\n      <td>None</td>\n      <td>None</td>\n      <td>8026</td>\n      <td>None</td>\n      <td>None</td>\n      <td>...</td>\n      <td>None</td>\n      <td>male</td>\n      <td>None</td>\n      <td>None</td>\n      <td>None</td>\n      <td>None</td>\n      <td>None</td>\n      <td>None</td>\n      <td>None</td>\n      <td>None</td>\n    </tr>\n    <tr>\n      <th>2</th>\n      <td>1897745</td>\n      <td>None</td>\n      <td>9245</td>\n      <td>None</td>\n      <td>9245</td>\n      <td>None</td>\n      <td>None</td>\n      <td>9245</td>\n      <td>None</td>\n      <td>None</td>\n      <td>...</td>\n      <td>None</td>\n      <td>male</td>\n      <td>None</td>\n      <td>None</td>\n      <td>None</td>\n      <td>None</td>\n      <td>None</td>\n      <td>None</td>\n      <td>None</td>\n      <td>None</td>\n    </tr>\n    <tr>\n      <th>3</th>\n      <td>1897765</td>\n      <td>None</td>\n      <td>12419</td>\n      <td>None</td>\n      <td>12419</td>\n      <td>None</td>\n      <td>None</td>\n      <td>12419</td>\n      <td>None</td>\n      <td>None</td>\n      <td>...</td>\n      <td>None</td>\n      <td>male</td>\n      <td>None</td>\n      <td>None</td>\n      <td>None</td>\n      <td>None</td>\n      <td>None</td>\n      <td>None</td>\n      <td>None</td>\n      <td>None</td>\n    </tr>\n    <tr>\n      <th>4</th>\n      <td>1897791</td>\n      <td>None</td>\n      <td>14631</td>\n      <td>None</td>\n      <td>14631</td>\n      <td>None</td>\n      <td>None</td>\n      <td>14631</td>\n      <td>None</td>\n      <td>None</td>\n      <td>...</td>\n      <td>None</td>\n      <td>male</td>\n      <td>None</td>\n      <td>None</td>\n      <td>None</td>\n      <td>None</td>\n      <td>None</td>\n      <td>None</td>\n      <td>None</td>\n      <td>None</td>\n    </tr>\n    <tr>\n      <th>6</th>\n      <td>1897809</td>\n      <td>None</td>\n      <td>12419</td>\n      <td>None</td>\n      <td>12419</td>\n      <td>None</td>\n      <td>None</td>\n      <td>12419</td>\n      <td>None</td>\n      <td>None</td>\n      <td>...</td>\n      <td>None</td>\n      <td>female</td>\n      <td>None</td>\n      <td>None</td>\n      <td>None</td>\n      <td>None</td>\n      <td>None</td>\n      <td>None</td>\n      <td>None</td>\n      <td>None</td>\n    </tr>\n  </tbody>\n</table>\n<p>5 rows × 71 columns</p>\n</div>"
     },
     "metadata": {},
     "output_type": "execute_result",
     "execution_count": 18
    }
   ],
   "source": [
    "train = en.Xtrain_df\n",
    "train.head()"
   ],
   "metadata": {
    "collapsed": false,
    "pycharm": {
     "name": "#%%\n",
     "is_executing": false
    }
   }
  },
  {
   "cell_type": "code",
   "execution_count": 19,
   "outputs": [],
   "source": [
    "# train_pool = en.train_pool()"
   ],
   "metadata": {
    "collapsed": false,
    "pycharm": {
     "name": "#%%\n",
     "is_executing": false
    }
   }
  },
  {
   "cell_type": "code",
   "execution_count": 20,
   "outputs": [
    {
     "name": "stdout",
     "text": [
      "# \n",
      "# description: обязательный\n",
      "#  - строка, непустая, описание параметра, в расчетах не участвует, не проверяется\n",
      "#   \n",
      "# type: обязательный\n",
      "#  - 'num' - скаляр, т.е. возможно сравнение на больше-меньше\n",
      "#  - 'datetime' - дата и время, округляем до минут, но если минут нет, например, только часы, то до максимальной оставшейся точности\n",
      "#  - 'string' - признак, категориальный, для которого нет метрики сравнения, например id оператора\n",
      "#  - 'Na' - not applied, не участвует (пока) в анализе, например, название улицы \n",
      "#   \n",
      "# min_val: необязательный - минимально возможное значение для скаляра, если не скаляр, должен быть опущен или == 'Na'  если не определен или Na, то не проверяется\n",
      "#  - 'Na'\n",
      "#   \n",
      "# max_val: необязательный, аналогично min_val\n",
      "#   \n",
      "# error: обязательный - возвращаемая ошибка сервера, содержит имя параметра, для которого вызвана, например order_id, и причину, напр. typerror\n",
      "#   \n",
      "# using: обязательный - используется для расчета модели. Это поле заполняется мной (С.Н.), \n",
      "#  \n",
      "\n",
      "protocol:\n",
      "  - !fields\n",
      "    order_id:\n",
      "      description: Na\n",
      "      type: Na\n",
      "      min_val: Na\n",
      "      max_val: Na\n",
      "      error: Na\n",
      "      using: Na\n",
      "    stat_order_created_ts:\n",
      "      description: Na\n",
      "      type: Na\n",
      "      min_val: Na\n",
      "      max_val: Na\n",
      "      error: Na\n",
      "      using: Na\n",
      "    stat_order_processed_user_id:\n",
      "      description: Na\n",
      "      type: Na\n",
      "      min_val: Na\n",
      "      max_val: Na\n",
      "      error: Na\n",
      "      using: Na\n",
      "    stat_order_confirmed_ts:\n",
      "      description: Na\n",
      "      type: Na\n",
      "      min_val: Na\n",
      "      max_val: Na\n",
      "      error: Na\n",
      "      using: Na\n",
      "    stat_order_confirmed_user_id:\n",
      "      description: Na\n",
      "      type: Na\n",
      "      min_val: Na\n",
      "      max_val: Na\n",
      "      error: Na\n",
      "      using: Na\n",
      "    stat_order_callback_ts:\n",
      "      description: Na\n",
      "      type: Na\n",
      "      min_val: Na\n",
      "      max_val: Na\n",
      "      error: Na\n",
      "      using: Na\n",
      "    stat_order_lead_ts:\n",
      "      description: Na\n",
      "      type: Na\n",
      "      min_val: Na\n",
      "      max_val: Na\n",
      "      error: Na\n",
      "      using: Na\n",
      "    stat_order_operator_id:\n",
      "      description: Na\n",
      "      type: Na\n",
      "      min_val: Na\n",
      "      max_val: Na\n",
      "      error: Na\n",
      "      using: Na\n",
      "    stat_order_rejection_reason:\n",
      "      description: Na\n",
      "      type: Na\n",
      "      min_val: Na\n",
      "      max_val: Na\n",
      "      error: Na\n",
      "      using: Na\n",
      "    stat_order_invalid_reason:\n",
      "      description: Na\n",
      "      type: Na\n",
      "      min_val: Na\n",
      "      max_val: Na\n",
      "      error: Na\n",
      "      using: Na\n",
      "    stat_order_country:\n",
      "      description: Na\n",
      "      type: Na\n",
      "      min_val: Na\n",
      "      max_val: Na\n",
      "      error: Na\n",
      "      using: Na\n",
      "    stat_order_country_ip:\n",
      "      description: Na\n",
      "      type: Na\n",
      "      min_val: Na\n",
      "      max_val: Na\n",
      "      error: Na\n",
      "      using: Na\n",
      "    stat_order_country_phone:\n",
      "      description: Na\n",
      "      type: Na\n",
      "      min_val: Na\n",
      "      max_val: Na\n",
      "      error: Na\n",
      "      using: Na\n",
      "    stat_order_region:\n",
      "      description: Na\n",
      "      type: Na\n",
      "      min_val: Na\n",
      "      max_val: Na\n",
      "      error: Na\n",
      "      using: Na\n",
      "    stat_order_city:\n",
      "      description: Na\n",
      "      type: Na\n",
      "      min_val: Na\n",
      "      max_val: Na\n",
      "      error: Na\n",
      "      using: Na\n",
      "    stat_order_delivery_price:\n",
      "      description: Na\n",
      "      type: Na\n",
      "      min_val: Na\n",
      "      max_val: Na\n",
      "      error: Na\n",
      "      using: Na\n",
      "    stat_order_payment_method:\n",
      "      description: Na\n",
      "      type: Na\n",
      "      min_val: Na\n",
      "      max_val: Na\n",
      "      error: Na\n",
      "      using: Na\n",
      "    stat_order_phone_geocoder:\n",
      "      description: Na\n",
      "      type: Na\n",
      "      min_val: Na\n",
      "      max_val: Na\n",
      "      error: Na\n",
      "      using: Na\n",
      "    stat_order_phone_valid:\n",
      "      description: Na\n",
      "      type: Na\n",
      "      min_val: Na\n",
      "      max_val: Na\n",
      "      error: Na\n",
      "      using: Na\n",
      "    stat_order_status_order:\n",
      "      description: Na\n",
      "      type: Na\n",
      "      min_val: Na\n",
      "      max_val: Na\n",
      "      error: Na\n",
      "      using: Na\n",
      "    stat_order_is_valid:\n",
      "      description: Na\n",
      "      type: Na\n",
      "      min_val: Na\n",
      "      max_val: Na\n",
      "      error: Na\n",
      "      using: Na\n",
      "    stat_order_is_call_fail:\n",
      "      description: Na\n",
      "      type: Na\n",
      "      min_val: Na\n",
      "      max_val: Na\n",
      "      error: Na\n",
      "      using: Na\n",
      "    stat_order_valid_error:\n",
      "      description: Na\n",
      "      type: Na\n",
      "      min_val: Na\n",
      "      max_val: Na\n",
      "      error: Na\n",
      "      using: Na\n",
      "    stat_order_webmaster_id:\n",
      "      description: Na\n",
      "      type: Na\n",
      "      min_val: Na\n",
      "      max_val: Na\n",
      "      error: Na\n",
      "      using: Na\n",
      "    stat_order_offer_id:\n",
      "      description: Na\n",
      "      type: Na\n",
      "      min_val: Na\n",
      "      max_val: Na\n",
      "      error: Na\n",
      "      using: Na\n",
      "    stat_order_landing_id:\n",
      "      description: Na\n",
      "      type: Na\n",
      "      min_val: Na\n",
      "      max_val: Na\n",
      "      error: Na\n",
      "      using: Na\n",
      "    stat_order_prelanding_id:\n",
      "      description: Na\n",
      "      type: Na\n",
      "      min_val: Na\n",
      "      max_val: Na\n",
      "      error: Na\n",
      "      using: Na\n",
      "    stat_order_money:\n",
      "      description: Na\n",
      "      type: Na\n",
      "      min_val: Na\n",
      "      max_val: Na\n",
      "      error: Na\n",
      "      using: Na\n",
      "    stat_order_count_call:\n",
      "      description: Na\n",
      "      type: Na\n",
      "      min_val: Na\n",
      "      max_val: Na\n",
      "      error: Na\n",
      "      using: Na\n",
      "    stat_order_last_call_ts:\n",
      "      description: Na\n",
      "      type: Na\n",
      "      min_val: Na\n",
      "      max_val: Na\n",
      "      error: Na\n",
      "      using: Na\n",
      "    stat_order_count_callback:\n",
      "      description: Na\n",
      "      type: Na\n",
      "      min_val: Na\n",
      "      max_val: Na\n",
      "      error: Na\n",
      "      using: Na\n",
      "    stat_order_good_count:\n",
      "      description: Na\n",
      "      type: Na\n",
      "      min_val: Na\n",
      "      max_val: Na\n",
      "      error: Na\n",
      "      using: Na\n",
      "    stat_order_phone_id:\n",
      "      description: Na\n",
      "      type: Na\n",
      "      min_val: Na\n",
      "      max_val: Na\n",
      "      error: Na\n",
      "      using: Na\n",
      "    stat_order_utm_source:\n",
      "      description: Na\n",
      "      type: Na\n",
      "      min_val: Na\n",
      "      max_val: Na\n",
      "      error: Na\n",
      "      using: Na\n",
      "    stat_order_utm_medium:\n",
      "      description: Na\n",
      "      type: Na\n",
      "      min_val: Na\n",
      "      max_val: Na\n",
      "      error: Na\n",
      "      using: Na\n",
      "    stat_order_utm_campaign:\n",
      "      description: Na\n",
      "      type: Na\n",
      "      min_val: Na\n",
      "      max_val: Na\n",
      "      error: Na\n",
      "      using: Na\n",
      "    stat_order_utm_content:\n",
      "      description: Na\n",
      "      type: Na\n",
      "      min_val: Na\n",
      "      max_val: Na\n",
      "      error: Na\n",
      "      using: Na\n",
      "    stat_order_utm_term:\n",
      "      description: Na\n",
      "      type: Na\n",
      "      min_val: Na\n",
      "      max_val: Na\n",
      "      error: Na\n",
      "      using: Na\n",
      "    stat_order_is_prepay:\n",
      "      description: Na\n",
      "      type: Na\n",
      "      min_val: Na\n",
      "      max_val: Na\n",
      "      error: Na\n",
      "      using: Na\n",
      "    stat_order_landing_price:\n",
      "      description: Na\n",
      "      type: Na\n",
      "      min_val: Na\n",
      "      max_val: Na\n",
      "      error: Na\n",
      "      using: Na\n",
      "    stat_order_landing_currency:\n",
      "      description: Na\n",
      "      type: Na\n",
      "      min_val: Na\n",
      "      max_val: Na\n",
      "      error: Na\n",
      "      using: Na\n",
      "    stat_order_time_before_open_form:\n",
      "      description: Na\n",
      "      type: Na\n",
      "      min_val: Na\n",
      "      max_val: Na\n",
      "      error: Na\n",
      "      using: Na\n",
      "    stat_order_account_manager_id:\n",
      "      description: Na\n",
      "      type: Na\n",
      "      min_val: Na\n",
      "      max_val: Na\n",
      "      error: Na\n",
      "      using: Na\n",
      "    stat_order_unique_goods:\n",
      "      description: Na\n",
      "      type: Na\n",
      "      min_val: Na\n",
      "      max_val: Na\n",
      "      error: Na\n",
      "      using: Na\n",
      "    stat_delivery_in_stock_ts:\n",
      "      description: Na\n",
      "      type: Na\n",
      "      min_val: Na\n",
      "      max_val: Na\n",
      "      error: Na\n",
      "      using: Na\n",
      "    stat_delivery_cancel_in_stock_ts:\n",
      "      description: Na\n",
      "      type: Na\n",
      "      min_val: Na\n",
      "      max_val: Na\n",
      "      error: Na\n",
      "      using: Na\n",
      "    stat_delivery_paid_ts:\n",
      "      description: Na\n",
      "      type: Na\n",
      "      min_val: Na\n",
      "      max_val: Na\n",
      "      error: Na\n",
      "      using: Na\n",
      "    stat_delivery_return_ts:\n",
      "      description: Na\n",
      "      type: Na\n",
      "      min_val: Na\n",
      "      max_val: Na\n",
      "      error: Na\n",
      "      using: Na\n",
      "    stat_delivery_good_count:\n",
      "      description: Na\n",
      "      type: Na\n",
      "      min_val: Na\n",
      "      max_val: Na\n",
      "      error: Na\n",
      "      using: Na\n",
      "    stat_delivery_delivery_status:\n",
      "      description: Na\n",
      "      type: Na\n",
      "      min_val: Na\n",
      "      max_val: Na\n",
      "      error: Na\n",
      "      using: Na\n",
      "    stat_delivery_manager_id:\n",
      "      description: Na\n",
      "      type: Na\n",
      "      min_val: Na\n",
      "      max_val: Na\n",
      "      error: Na\n",
      "      using: Na\n",
      "    stat_delivery_exception:\n",
      "      description: Na\n",
      "      type: Na\n",
      "      min_val: Na\n",
      "      max_val: Na\n",
      "      error: Na\n",
      "      using: Na\n",
      "    stat_delivery_finance_revise_ts:\n",
      "      description: Na\n",
      "      type: Na\n",
      "      min_val: Na\n",
      "      max_val: Na\n",
      "      error: Na\n",
      "      using: Na\n",
      "    stat_delivery_discount:\n",
      "      description: Na\n",
      "      type: Na\n",
      "      min_val: Na\n",
      "      max_val: Na\n",
      "      error: Na\n",
      "      using: Na\n",
      "    stat_delivery_discount_eur:\n",
      "      description: Na\n",
      "      type: Na\n",
      "      min_val: Na\n",
      "      max_val: Na\n",
      "      error: Na\n",
      "      using: Na\n",
      "    stat_delivery_operator_status:\n",
      "      description: Na\n",
      "      type: Na\n",
      "      min_val: Na\n",
      "      max_val: Na\n",
      "      error: Na\n",
      "      using: Na\n",
      "    stat_delivery_google_and_operator_address_match:\n",
      "      description: Na\n",
      "      type: Na\n",
      "      min_val: Na\n",
      "      max_val: Na\n",
      "      error: Na\n",
      "      using: Na\n",
      "    order_client_name:\n",
      "      description: Na\n",
      "      type: Na\n",
      "      min_val: Na\n",
      "      max_val: Na\n",
      "      error: Na\n",
      "      using: Na\n",
      "    order_client_surname:\n",
      "      description: Na\n",
      "      type: Na\n",
      "      min_val: Na\n",
      "      max_val: Na\n",
      "      error: Na\n",
      "      using: Na\n",
      "    order_client_additional_phone:\n",
      "      description: Na\n",
      "      type: Na\n",
      "      min_val: Na\n",
      "      max_val: Na\n",
      "      error: Na\n",
      "      using: Na\n",
      "    order_client_age:\n",
      "      description: Na\n",
      "      type: Na\n",
      "      min_val: Na\n",
      "      max_val: Na\n",
      "      error: Na\n",
      "      using: Na\n",
      "    order_client_age_unknown:\n",
      "      description: Na\n",
      "      type: Na\n",
      "      min_val: Na\n",
      "      max_val: Na\n",
      "      error: Na\n",
      "      using: Na\n",
      "    order_client_sex:\n",
      "      description: Na\n",
      "      type: Na\n",
      "      min_val: Na\n",
      "      max_val: Na\n",
      "      error: Na\n",
      "      using: Na\n",
      "    order_address_country:\n",
      "      description: Na\n",
      "      type: Na\n",
      "      min_val: Na\n",
      "      max_val: Na\n",
      "      error: Na\n",
      "      using: Na\n",
      "    order_address_region:\n",
      "      description: Na\n",
      "      type: Na\n",
      "      min_val: Na\n",
      "      max_val: Na\n",
      "      error: Na\n",
      "      using: Na\n",
      "    order_address_city:\n",
      "      description: Na\n",
      "      type: Na\n",
      "      min_val: Na\n",
      "      max_val: Na\n",
      "      error: Na\n",
      "      using: Na\n",
      "    order_address_street:\n",
      "      description: Na\n",
      "      type: Na\n",
      "      min_val: Na\n",
      "      max_val: Na\n",
      "      error: Na\n",
      "      using: Na\n",
      "    order_address_house:\n",
      "      description: Na\n",
      "      type: Na\n",
      "      min_val: Na\n",
      "      max_val: Na\n",
      "      error: Na\n",
      "      using: Na\n",
      "    order_address_housing:\n",
      "      description: Na\n",
      "      type: Na\n",
      "      min_val: Na\n",
      "      max_val: Na\n",
      "      error: Na\n",
      "      using: Na\n",
      "    order_address_apartment:\n",
      "      description: Na\n",
      "      type: Na\n",
      "      min_val: Na\n",
      "      max_val: Na\n",
      "      error: Na\n",
      "      using: Na\n",
      "    order_address_zip_code:\n",
      "      description: Na\n",
      "      type: Na\n",
      "      min_val: Na\n",
      "      max_val: Na\n",
      "      error: Na\n",
      "      using: Na\n"
     ],
     "output_type": "stream"
    }
   ],
   "source": [
    "print(\"\\n# \".join([\"# \",\n",
    "    \"description: обязательный\",\n",
    "        \" - строка, непустая, описание параметра, в расчетах не участвует, не проверяется\",\n",
    "    \"  \",\n",
    "    \"type: обязательный\",\n",
    "        \" - 'num' - скаляр, т.е. возможно сравнение на больше-меньше\",\n",
    "        \" - 'datetime' - дата и время, округляем до минут, \"\n",
    "        \"но если минут нет, например, только часы, то до максимальной оставшейся точности\",\n",
    "        \" - 'string' - признак, категориальный, для которого нет метрики сравнения, например id оператора\",\n",
    "        \" - 'Na' - not applied, не участвует (пока) в анализе, например, название улицы \",\n",
    "    \"  \",\n",
    "    \"min_val: необязательный\"\n",
    "        \" - минимально возможное значение для скаляра, если не скаляр, должен быть опущен или == 'Na' \"\n",
    "        \" если не определен или Na, то не проверяется\",\n",
    "        \" - 'Na'\",\n",
    "    \"  \",\n",
    "    \"max_val: необязательный, аналогично min_val\",\n",
    "    \"  \",\n",
    "    \"error: обязательный\"\n",
    "        \" - возвращаемая ошибка сервера, содержит имя параметра, для которого вызвана, например order_id, и причину, напр. typerror\",\n",
    "    \"  \",\n",
    "    \"using: обязательный\"\n",
    "        \" - используется для расчета модели. Это поле заполняется мной (С.Н.), \",\n",
    "    \n",
    "    \" \\n\",\n",
    "]))\n",
    "\n",
    "print(\"protocol:\")\n",
    "print(f\"{' '*2}- !fields\")\n",
    "for name in data.columns: # [:3]:\n",
    "    print(F\"{' '*4}{name}:\")\n",
    "    print(f\"{' '*6}description: Na\", )\n",
    "    print(f\"{' '*6}type: Na\", )\n",
    "    print(f\"{' '*6}min_val: Na\", )\n",
    "    print(f\"{' '*6}max_val: Na\", )\n",
    "    print(f\"{' '*6}error: Na\", )\n",
    "    print(f\"{' '*6}using: Na\", )\n"
   ],
   "metadata": {
    "collapsed": false,
    "pycharm": {
     "name": "#%%\n",
     "is_executing": false
    }
   }
  },
  {
   "cell_type": "code",
   "execution_count": 21,
   "outputs": [],
   "source": [
    "with open(protocol_file, \"r\") as protocol:\n",
    "    parser = yaml.load(protocol, Loader=yaml.FullLoader)[\"protocol\"]\n"
   ],
   "metadata": {
    "collapsed": false,
    "pycharm": {
     "name": "#%%\n",
     "is_executing": false
    }
   }
  },
  {
   "cell_type": "code",
   "execution_count": 28,
   "outputs": [
    {
     "data": {
      "text/plain": "Index(['order_id', 'stat_order_processed_user_id', 'stat_order_confirmed_ts'], dtype='object')"
     },
     "metadata": {},
     "output_type": "execute_result",
     "execution_count": 28
    }
   ],
   "source": [
    "ii = data.columns.get_loc('order_id')\n",
    "data.columns.take([0, 2, 3])\n"
   ],
   "metadata": {
    "collapsed": false,
    "pycharm": {
     "name": "#%%\n",
     "is_executing": false
    }
   }
  },
  {
   "cell_type": "code",
   "execution_count": 32,
   "outputs": [
    {
     "data": {
      "text/plain": "Index(['order_id'], dtype='object')"
     },
     "metadata": {},
     "output_type": "execute_result",
     "execution_count": 32
    }
   ],
   "source": [
    "data.columns.intersection(['order_id', \"non\"])"
   ],
   "metadata": {
    "collapsed": false,
    "pycharm": {
     "name": "#%%\n",
     "is_executing": false
    }
   }
  },
  {
   "cell_type": "code",
   "execution_count": 48,
   "outputs": [
    {
     "name": "stdout",
     "text": [
      "<class 'str'>\n"
     ],
     "output_type": "stream"
    }
   ],
   "source": [
    "data[\"order_id\"].astype(str)\n",
    "print(type(data[\"order_id\"][1]))"
   ],
   "metadata": {
    "collapsed": false,
    "pycharm": {
     "name": "#%%\n",
     "is_executing": false
    }
   }
  },
  {
   "cell_type": "code",
   "execution_count": 49,
   "outputs": [
    {
     "name": "stdout",
     "text": [
      "<class 'NoneType'>\n"
     ],
     "output_type": "stream"
    }
   ],
   "source": [
    "print(type(data[\"order_address_zip_code\"][1]))\n",
    "\n"
   ],
   "metadata": {
    "collapsed": false,
    "pycharm": {
     "name": "#%%\n",
     "is_executing": false
    }
   }
  },
  {
   "cell_type": "code",
   "execution_count": null,
   "outputs": [],
   "source": [
    "\n"
   ],
   "metadata": {
    "collapsed": false,
    "pycharm": {
     "name": "#%%\n"
    }
   }
  }
 ],
 "metadata": {
  "kernelspec": {
   "display_name": "Python 3",
   "language": "python",
   "name": "python3"
  },
  "language_info": {
   "codemirror_mode": {
    "name": "ipython",
    "version": 2
   },
   "file_extension": ".py",
   "mimetype": "text/x-python",
   "name": "python",
   "nbconvert_exporter": "python",
   "pygments_lexer": "ipython2",
   "version": "2.7.6"
  },
  "pycharm": {
   "stem_cell": {
    "cell_type": "raw",
    "source": [],
    "metadata": {
     "collapsed": false
    }
   }
  }
 },
 "nbformat": 4,
 "nbformat_minor": 0
}