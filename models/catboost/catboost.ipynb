{
 "cells": [
  {
   "cell_type": "code",
   "execution_count": 11,
   "metadata": {
    "collapsed": true,
    "pycharm": {
     "is_executing": false
    }
   },
   "outputs": [],
   "source": [
    "import pandas as pd\n",
    "import numpy as np\n",
    "from IPython.core.display import display\n",
    "\n",
    "from catboost_data_engine import AdultDataEngine"
   ]
  },
  {
   "cell_type": "code",
   "execution_count": 12,
   "outputs": [
    {
     "name": "stderr",
     "text": [
      "/home/sergey/anaconda3/envs/WVproject/lib/python3.7/site-packages/IPython/core/interactiveshell.py:3063: DtypeWarning: Columns (72) have mixed types.Specify dtype option on import or set low_memory=False.\n",
      "  interactivity=interactivity, compiler=compiler, result=result)\n"
     ],
     "output_type": "stream"
    },
    {
     "data": {
      "text/plain": "   order_id stat_order_created_ts  stat_order_processed_user_id  \\\n0   1897739   2019-12-01 00:11:48                          8204   \n1   1897743   2019-12-01 00:12:33                          8026   \n2   1897745   2019-12-01 00:12:54                          9245   \n3   1897765   2019-12-01 00:26:07                         12419   \n4   1897791   2019-12-01 00:34:46                         14631   \n\n  stat_order_confirmed_ts  stat_order_confirmed_user_id  \\\n0     2019-12-02 09:53:03                          8204   \n1     2019-12-01 10:13:22                          8026   \n2     2019-12-01 11:12:37                          9245   \n3     2019-12-01 13:09:38                         12419   \n4     2019-12-12 17:32:03                         14631   \n\n   stat_order_callback_ts   stat_order_lead_ts  stat_order_operator_id  \\\n0                     NaN  2019-12-01 00:11:48                    8204   \n1                     NaN  2019-12-01 00:12:33                    8026   \n2                     NaN  2019-12-01 00:12:54                    9245   \n3                     NaN  2019-12-01 00:26:07                   12419   \n4                     NaN  2019-12-01 00:34:46                   14631   \n\n   stat_order_rejection_reason  stat_order_invalid_reason  ...  \\\n0                          NaN                        NaN  ...   \n1                          NaN                        NaN  ...   \n2                          NaN                        NaN  ...   \n3                          NaN                        NaN  ...   \n4                          NaN                        NaN  ...   \n\n  order_client_age_unknown order_client_sex order_address_country  \\\n0                      NaN             male                    IT   \n1                      NaN             male                    IT   \n2                      NaN             male                    IT   \n3                      NaN             male                    DE   \n4                      NaN             male                    IT   \n\n   order_address_region order_address_city   order_address_street  \\\n0                   NaN             Napoli   Via Giacinto Gigante   \n1                    GE             Genova  Via Alcide de Gasperi   \n2                    RM               Roma       Via Montefiorino   \n3                    BE             Berlin      Fritz-Erler-Allee   \n4                    RC    Bovalino Marino   Francesco Calfapetra   \n\n   order_address_house order_address_housing  order_address_apartment  \\\n0                    2                     -                        -   \n1                   12                   NaN                        -   \n2                   26                     -                        -   \n3                   62                     -                        -   \n4                   13                     -                        -   \n\n  order_address_zip_code  \n0                  80136  \n1                  16166  \n2                  00188  \n3                  12351  \n4                  89034  \n\n[5 rows x 73 columns]",
      "text/html": "<div>\n<style scoped>\n    .dataframe tbody tr th:only-of-type {\n        vertical-align: middle;\n    }\n\n    .dataframe tbody tr th {\n        vertical-align: top;\n    }\n\n    .dataframe thead th {\n        text-align: right;\n    }\n</style>\n<table border=\"1\" class=\"dataframe\">\n  <thead>\n    <tr style=\"text-align: right;\">\n      <th></th>\n      <th>order_id</th>\n      <th>stat_order_created_ts</th>\n      <th>stat_order_processed_user_id</th>\n      <th>stat_order_confirmed_ts</th>\n      <th>stat_order_confirmed_user_id</th>\n      <th>stat_order_callback_ts</th>\n      <th>stat_order_lead_ts</th>\n      <th>stat_order_operator_id</th>\n      <th>stat_order_rejection_reason</th>\n      <th>stat_order_invalid_reason</th>\n      <th>...</th>\n      <th>order_client_age_unknown</th>\n      <th>order_client_sex</th>\n      <th>order_address_country</th>\n      <th>order_address_region</th>\n      <th>order_address_city</th>\n      <th>order_address_street</th>\n      <th>order_address_house</th>\n      <th>order_address_housing</th>\n      <th>order_address_apartment</th>\n      <th>order_address_zip_code</th>\n    </tr>\n  </thead>\n  <tbody>\n    <tr>\n      <th>0</th>\n      <td>1897739</td>\n      <td>2019-12-01 00:11:48</td>\n      <td>8204</td>\n      <td>2019-12-02 09:53:03</td>\n      <td>8204</td>\n      <td>NaN</td>\n      <td>2019-12-01 00:11:48</td>\n      <td>8204</td>\n      <td>NaN</td>\n      <td>NaN</td>\n      <td>...</td>\n      <td>NaN</td>\n      <td>male</td>\n      <td>IT</td>\n      <td>NaN</td>\n      <td>Napoli</td>\n      <td>Via Giacinto Gigante</td>\n      <td>2</td>\n      <td>-</td>\n      <td>-</td>\n      <td>80136</td>\n    </tr>\n    <tr>\n      <th>1</th>\n      <td>1897743</td>\n      <td>2019-12-01 00:12:33</td>\n      <td>8026</td>\n      <td>2019-12-01 10:13:22</td>\n      <td>8026</td>\n      <td>NaN</td>\n      <td>2019-12-01 00:12:33</td>\n      <td>8026</td>\n      <td>NaN</td>\n      <td>NaN</td>\n      <td>...</td>\n      <td>NaN</td>\n      <td>male</td>\n      <td>IT</td>\n      <td>GE</td>\n      <td>Genova</td>\n      <td>Via Alcide de Gasperi</td>\n      <td>12</td>\n      <td>NaN</td>\n      <td>-</td>\n      <td>16166</td>\n    </tr>\n    <tr>\n      <th>2</th>\n      <td>1897745</td>\n      <td>2019-12-01 00:12:54</td>\n      <td>9245</td>\n      <td>2019-12-01 11:12:37</td>\n      <td>9245</td>\n      <td>NaN</td>\n      <td>2019-12-01 00:12:54</td>\n      <td>9245</td>\n      <td>NaN</td>\n      <td>NaN</td>\n      <td>...</td>\n      <td>NaN</td>\n      <td>male</td>\n      <td>IT</td>\n      <td>RM</td>\n      <td>Roma</td>\n      <td>Via Montefiorino</td>\n      <td>26</td>\n      <td>-</td>\n      <td>-</td>\n      <td>00188</td>\n    </tr>\n    <tr>\n      <th>3</th>\n      <td>1897765</td>\n      <td>2019-12-01 00:26:07</td>\n      <td>12419</td>\n      <td>2019-12-01 13:09:38</td>\n      <td>12419</td>\n      <td>NaN</td>\n      <td>2019-12-01 00:26:07</td>\n      <td>12419</td>\n      <td>NaN</td>\n      <td>NaN</td>\n      <td>...</td>\n      <td>NaN</td>\n      <td>male</td>\n      <td>DE</td>\n      <td>BE</td>\n      <td>Berlin</td>\n      <td>Fritz-Erler-Allee</td>\n      <td>62</td>\n      <td>-</td>\n      <td>-</td>\n      <td>12351</td>\n    </tr>\n    <tr>\n      <th>4</th>\n      <td>1897791</td>\n      <td>2019-12-01 00:34:46</td>\n      <td>14631</td>\n      <td>2019-12-12 17:32:03</td>\n      <td>14631</td>\n      <td>NaN</td>\n      <td>2019-12-01 00:34:46</td>\n      <td>14631</td>\n      <td>NaN</td>\n      <td>NaN</td>\n      <td>...</td>\n      <td>NaN</td>\n      <td>male</td>\n      <td>IT</td>\n      <td>RC</td>\n      <td>Bovalino Marino</td>\n      <td>Francesco Calfapetra</td>\n      <td>13</td>\n      <td>-</td>\n      <td>-</td>\n      <td>89034</td>\n    </tr>\n  </tbody>\n</table>\n<p>5 rows × 73 columns</p>\n</div>"
     },
     "metadata": {},
     "output_type": "execute_result",
     "execution_count": 12
    }
   ],
   "source": [
    "path = \"../../../data/real_2019-12-01-2019-12-31.csv\" \n",
    "\n",
    "data = pd.read_csv(path, sep=\";\", )\n",
    "data.head()"
   ],
   "metadata": {
    "collapsed": false,
    "pycharm": {
     "name": "#%%\n",
     "is_executing": false
    }
   }
  },
  {
   "cell_type": "code",
   "execution_count": 13,
   "outputs": [
    {
     "data": {
      "text/plain": "(8632, 73)"
     },
     "metadata": {},
     "output_type": "execute_result",
     "execution_count": 13
    }
   ],
   "source": [
    "data.shape"
   ],
   "metadata": {
    "collapsed": false,
    "pycharm": {
     "name": "#%%\n",
     "is_executing": false
    }
   }
  },
  {
   "cell_type": "code",
   "execution_count": 14,
   "outputs": [
    {
     "data": {
      "text/plain": "Index(['order_id', 'stat_order_created_ts', 'stat_order_processed_user_id',\n       'stat_order_confirmed_ts', 'stat_order_confirmed_user_id',\n       'stat_order_callback_ts', 'stat_order_lead_ts',\n       'stat_order_operator_id', 'stat_order_rejection_reason',\n       'stat_order_invalid_reason', 'stat_order_country',\n       'stat_order_country_ip', 'stat_order_country_phone',\n       'stat_order_region', 'stat_order_city', 'stat_order_delivery_price',\n       'stat_order_payment_method', 'stat_order_phone_geocoder',\n       'stat_order_phone_valid', 'stat_order_status_order',\n       'stat_order_is_valid', 'stat_order_is_call_fail',\n       'stat_order_valid_error', 'stat_order_webmaster_id',\n       'stat_order_offer_id', 'stat_order_landing_id',\n       'stat_order_prelanding_id', 'stat_order_money', 'stat_order_count_call',\n       'stat_order_last_call_ts', 'stat_order_count_callback',\n       'stat_order_good_count', 'stat_order_phone_id', 'stat_order_utm_source',\n       'stat_order_utm_medium', 'stat_order_utm_campaign',\n       'stat_order_utm_content', 'stat_order_utm_term', 'stat_order_is_prepay',\n       'stat_order_landing_price', 'stat_order_landing_currency',\n       'stat_order_time_before_open_form', 'stat_order_account_manager_id',\n       'stat_order_unique_goods', 'stat_delivery_in_stock_ts',\n       'stat_delivery_cancel_in_stock_ts', 'stat_delivery_paid_ts',\n       'stat_delivery_return_ts', 'stat_delivery_good_count',\n       'stat_delivery_is_paid', 'stat_delivery_is_return',\n       'stat_delivery_delivery_status', 'stat_delivery_manager_id',\n       'stat_delivery_exception', 'stat_delivery_finance_revise_ts',\n       'stat_delivery_discount', 'stat_delivery_discount_eur',\n       'stat_delivery_operator_status',\n       'stat_delivery_google_and_operator_address_match', 'order_client_name',\n       'order_client_surname', 'order_client_additional_phone',\n       'order_client_age', 'order_client_age_unknown', 'order_client_sex',\n       'order_address_country', 'order_address_region', 'order_address_city',\n       'order_address_street', 'order_address_house', 'order_address_housing',\n       'order_address_apartment', 'order_address_zip_code'],\n      dtype='object')"
     },
     "metadata": {},
     "output_type": "execute_result",
     "execution_count": 14
    }
   ],
   "source": [
    "len(data.columns)\n",
    "data.columns\n"
   ],
   "metadata": {
    "collapsed": false,
    "pycharm": {
     "name": "#%%\n",
     "is_executing": false
    }
   }
  },
  {
   "cell_type": "code",
   "execution_count": 15,
   "outputs": [
    {
     "data": {
      "text/plain": "27"
     },
     "metadata": {},
     "output_type": "execute_result",
     "execution_count": 15
    }
   ],
   "source": [
    "data.columns.get_loc('stat_order_money')\n"
   ],
   "metadata": {
    "collapsed": false,
    "pycharm": {
     "name": "#%%\n",
     "is_executing": false
    }
   }
  },
  {
   "cell_type": "code",
   "execution_count": 34,
   "outputs": [
    {
     "name": "stdout",
     "text": [
      "p                    6808\n",
      "r                    1796\n",
      "p+r                  8604\n",
      "всего данных         8632\n",
      "где-то потерялось     -28\n",
      "dtype: int64\n"
     ],
     "output_type": "stream"
    }
   ],
   "source": [
    "p = data['stat_delivery_is_paid'].count()\n",
    "r = data['stat_delivery_is_return'].count()\n",
    "\n",
    "series = pd.Series(data={\"p\": p, \"r\": r, \"p+r\": p+r, \n",
    "                          \"всего данных\": data.shape[0], \"где-то потерялось\": p+r-data.shape[0]}    ) \n",
    "\n",
    "print(series)"
   ],
   "metadata": {
    "collapsed": false,
    "pycharm": {
     "name": "#%%\n",
     "is_executing": false
    }
   }
  },
  {
   "cell_type": "code",
   "execution_count": 21,
   "outputs": [
    {
     "data": {
      "text/plain": "array([ 1,  2,  3,  4,  5,  6,  7,  8,  9, 10, 11, 12, 13, 14, 15, 16, 17,\n       18, 19, 20, 21, 22, 23, 24, 25, 26, 27, 28, 29, 30, 31, 32, 33, 34,\n       35, 36, 37, 38, 39, 40, 41, 42, 43, 44, 45, 46, 47, 48, 49, 50, 51,\n       52, 53, 54, 55, 56, 57, 58])"
     },
     "metadata": {},
     "output_type": "execute_result",
     "execution_count": 21
    }
   ],
   "source": [
    "stats = np.ravel(np.where(np.char.startswith(list(data.columns), \n",
    "                                    prefix=\"stat_\")))\n",
    "stats"
   ],
   "metadata": {
    "collapsed": false,
    "pycharm": {
     "name": "#%%\n",
     "is_executing": false
    }
   }
  },
  {
   "cell_type": "code",
   "execution_count": 22,
   "outputs": [],
   "source": [
    "for col in data.columns:\n",
    "    if data[col].count() == 28:\n",
    "        print(col)\n",
    "\n"
   ],
   "metadata": {
    "collapsed": false,
    "pycharm": {
     "name": "#%%\n",
     "is_executing": false
    }
   }
  },
  {
   "cell_type": "code",
   "execution_count": 43,
   "outputs": [],
   "source": [
    "    import ipywidgets as widgets\n",
    "\n",
    "    button = widgets.ToggleButton(\n",
    "        value=False,\n",
    "        description='Click me',\n",
    "        disabled=False,\n",
    "        button_style='', # 'success', 'info', 'warning', 'danger' or ''\n",
    "        tooltip='Description',\n",
    "        icon='check'\n",
    "        )\n",
    "\n",
    "    def handler():\n",
    "        button.value = not button.value\n",
    "        \n",
    "        if button.value:\n",
    "            print(\"True\")\n",
    "        else:\n",
    "            print(\"False\")    \n",
    "            \n",
    "\n",
    "\n"
   ],
   "metadata": {
    "collapsed": false,
    "pycharm": {
     "name": "#%%\n",
     "is_executing": false
    }
   }
  },
  {
   "cell_type": "code",
   "execution_count": 47,
   "outputs": [
    {
     "name": "stderr",
     "text": [
      "/home/sergey/anaconda3/envs/WVproject/lib/python3.7/site-packages/ipykernel_launcher.py:1: DeprecationWarning: on_trait_change is deprecated in traitlets 4.1: use observe instead\n",
      "  \"\"\"Entry point for launching an IPython kernel.\n"
     ],
     "output_type": "stream"
    }
   ],
   "source": [
    "button.on_trait_change(handler=handler)"
   ],
   "metadata": {
    "collapsed": false,
    "pycharm": {
     "name": "#%%\n",
     "is_executing": false
    }
   }
  },
  {
   "cell_type": "code",
   "execution_count": 40,
   "outputs": [
    {
     "data": {
      "text/plain": "False"
     },
     "metadata": {},
     "output_type": "execute_result",
     "execution_count": 40
    }
   ],
   "source": [
    "a = not a\n",
    "a"
   ],
   "metadata": {
    "collapsed": false,
    "pycharm": {
     "name": "#%%\n",
     "is_executing": false
    }
   }
  },
  {
   "cell_type": "code",
   "execution_count": 52,
   "outputs": [
    {
     "data": {
      "text/plain": "ToggleButton(value=False, description='click me next')",
      "application/vnd.jupyter.widget-view+json": {
       "version_major": 2,
       "version_minor": 0,
       "model_id": "90a54daecab94de79b9af101279a9762"
      }
     },
     "metadata": {},
     "output_type": "display_data"
    }
   ],
   "source": [
    "import ipywidgets as w\n",
    "toggle = w.ToggleButton(description='click me next')\n",
    "\n",
    "out = w.Output(layout=w.Layout(border = '1px solid black'))\n",
    "\n",
    "def fun(obj):\n",
    "    with out:\n",
    "        if obj['new']:  \n",
    "            display('asd')\n",
    "        else:\n",
    "            out.clear_output()\n",
    "\n",
    "toggle.observe(fun, 'value')\n",
    "display(toggle)\n",
    "display(out)\n"
   ],
   "metadata": {
    "collapsed": false,
    "pycharm": {
     "name": "#%%\n",
     "is_executing": false
    }
   }
  },
  {
   "cell_type": "code",
   "execution_count": null,
   "outputs": [],
   "source": [
    "\n"
   ],
   "metadata": {
    "collapsed": false,
    "pycharm": {
     "name": "#%%\n"
    }
   }
  }
 ],
 "metadata": {
  "kernelspec": {
   "display_name": "Python 3",
   "language": "python",
   "name": "python3"
  },
  "language_info": {
   "codemirror_mode": {
    "name": "ipython",
    "version": 2
   },
   "file_extension": ".py",
   "mimetype": "text/x-python",
   "name": "python",
   "nbconvert_exporter": "python",
   "pygments_lexer": "ipython2",
   "version": "2.7.6"
  },
  "pycharm": {
   "stem_cell": {
    "cell_type": "raw",
    "source": [],
    "metadata": {
     "collapsed": false
    }
   }
  }
 },
 "nbformat": 4,
 "nbformat_minor": 0
}