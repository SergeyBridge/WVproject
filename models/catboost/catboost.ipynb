{
 "cells": [
  {
   "cell_type": "code",
   "execution_count": 44,
   "metadata": {
    "collapsed": true,
    "pycharm": {
     "is_executing": false
    }
   },
   "outputs": [],
   "source": [
    "import pandas as pd\n",
    "import numpy as np\n",
    "from IPython.core.display import display\n",
    "\n",
    "from catboost_data_engine import AdultDataEngine"
   ]
  },
  {
   "cell_type": "code",
   "execution_count": 45,
   "outputs": [
    {
     "name": "stdout",
     "text": [
      "   order_id stat_order_created_ts  stat_order_processed_user_id  \\\n",
      "0   1897739   2019-12-01 00:11:48                          8204   \n",
      "1   1897743   2019-12-01 00:12:33                          8026   \n",
      "2   1897745   2019-12-01 00:12:54                          9245   \n",
      "3   1897765   2019-12-01 00:26:07                         12419   \n",
      "4   1897791   2019-12-01 00:34:46                         14631   \n",
      "\n",
      "  stat_order_confirmed_ts  stat_order_confirmed_user_id  \\\n",
      "0     2019-12-02 09:53:03                          8204   \n",
      "1     2019-12-01 10:13:22                          8026   \n",
      "2     2019-12-01 11:12:37                          9245   \n",
      "3     2019-12-01 13:09:38                         12419   \n",
      "4     2019-12-12 17:32:03                         14631   \n",
      "\n",
      "   stat_order_callback_ts   stat_order_lead_ts  stat_order_operator_id  \\\n",
      "0                     NaN  2019-12-01 00:11:48                    8204   \n",
      "1                     NaN  2019-12-01 00:12:33                    8026   \n",
      "2                     NaN  2019-12-01 00:12:54                    9245   \n",
      "3                     NaN  2019-12-01 00:26:07                   12419   \n",
      "4                     NaN  2019-12-01 00:34:46                   14631   \n",
      "\n",
      "   stat_order_rejection_reason  stat_order_invalid_reason  ...  \\\n",
      "0                          NaN                        NaN  ...   \n",
      "1                          NaN                        NaN  ...   \n",
      "2                          NaN                        NaN  ...   \n",
      "3                          NaN                        NaN  ...   \n",
      "4                          NaN                        NaN  ...   \n",
      "\n",
      "  order_client_age_unknown order_client_sex order_address_country  \\\n",
      "0                      NaN             male                    IT   \n",
      "1                      NaN             male                    IT   \n",
      "2                      NaN             male                    IT   \n",
      "3                      NaN             male                    DE   \n",
      "4                      NaN             male                    IT   \n",
      "\n",
      "   order_address_region order_address_city   order_address_street  \\\n",
      "0                   NaN             Napoli   Via Giacinto Gigante   \n",
      "1                    GE             Genova  Via Alcide de Gasperi   \n",
      "2                    RM               Roma       Via Montefiorino   \n",
      "3                    BE             Berlin      Fritz-Erler-Allee   \n",
      "4                    RC    Bovalino Marino   Francesco Calfapetra   \n",
      "\n",
      "   order_address_house order_address_housing  order_address_apartment  \\\n",
      "0                    2                     -                        -   \n",
      "1                   12                   NaN                        -   \n",
      "2                   26                     -                        -   \n",
      "3                   62                     -                        -   \n",
      "4                   13                     -                        -   \n",
      "\n",
      "  order_address_zip_code  \n",
      "0                  80136  \n",
      "1                  16166  \n",
      "2                  00188  \n",
      "3                  12351  \n",
      "4                  89034  \n",
      "\n",
      "[5 rows x 73 columns]\n"
     ],
     "output_type": "stream"
    },
    {
     "name": "stderr",
     "text": [
      "/home/sergey/anaconda3/envs/WVproject/lib/python3.7/site-packages/IPython/core/interactiveshell.py:3063: DtypeWarning: Columns (72) have mixed types.Specify dtype option on import or set low_memory=False.\n",
      "  interactivity=interactivity, compiler=compiler, result=result)\n"
     ],
     "output_type": "stream"
    }
   ],
   "source": [
    "path = \"/home/sergey/mnt/st1500/Usr/Sergey/TheJob/clientsProjects/data/Webvork/real_2019-12-01-2019-12-31.csv\" \n",
    "\n",
    "data = pd.read_csv(path, sep=\";\", parse_dates=True)\n",
    "print(data.head())"
   ],
   "metadata": {
    "collapsed": false,
    "pycharm": {
     "name": "#%%\n",
     "is_executing": false
    }
   }
  },
  {
   "cell_type": "code",
   "execution_count": 46,
   "outputs": [
    {
     "data": {
      "text/plain": "(8632, 73)"
     },
     "metadata": {},
     "output_type": "execute_result",
     "execution_count": 46
    }
   ],
   "source": [
    "data.shape"
   ],
   "metadata": {
    "collapsed": false,
    "pycharm": {
     "name": "#%%\n",
     "is_executing": false
    }
   }
  },
  {
   "cell_type": "code",
   "execution_count": 47,
   "outputs": [
    {
     "data": {
      "text/plain": "Index(['order_id', 'stat_order_created_ts', 'stat_order_processed_user_id',\n       'stat_order_confirmed_ts', 'stat_order_confirmed_user_id',\n       'stat_order_callback_ts', 'stat_order_lead_ts',\n       'stat_order_operator_id', 'stat_order_rejection_reason',\n       'stat_order_invalid_reason', 'stat_order_country',\n       'stat_order_country_ip', 'stat_order_country_phone',\n       'stat_order_region', 'stat_order_city', 'stat_order_delivery_price',\n       'stat_order_payment_method', 'stat_order_phone_geocoder',\n       'stat_order_phone_valid', 'stat_order_status_order',\n       'stat_order_is_valid', 'stat_order_is_call_fail',\n       'stat_order_valid_error', 'stat_order_webmaster_id',\n       'stat_order_offer_id', 'stat_order_landing_id',\n       'stat_order_prelanding_id', 'stat_order_money', 'stat_order_count_call',\n       'stat_order_last_call_ts', 'stat_order_count_callback',\n       'stat_order_good_count', 'stat_order_phone_id', 'stat_order_utm_source',\n       'stat_order_utm_medium', 'stat_order_utm_campaign',\n       'stat_order_utm_content', 'stat_order_utm_term', 'stat_order_is_prepay',\n       'stat_order_landing_price', 'stat_order_landing_currency',\n       'stat_order_time_before_open_form', 'stat_order_account_manager_id',\n       'stat_order_unique_goods', 'stat_delivery_in_stock_ts',\n       'stat_delivery_cancel_in_stock_ts', 'stat_delivery_paid_ts',\n       'stat_delivery_return_ts', 'stat_delivery_good_count',\n       'stat_delivery_is_paid', 'stat_delivery_is_return',\n       'stat_delivery_delivery_status', 'stat_delivery_manager_id',\n       'stat_delivery_exception', 'stat_delivery_finance_revise_ts',\n       'stat_delivery_discount', 'stat_delivery_discount_eur',\n       'stat_delivery_operator_status',\n       'stat_delivery_google_and_operator_address_match', 'order_client_name',\n       'order_client_surname', 'order_client_additional_phone',\n       'order_client_age', 'order_client_age_unknown', 'order_client_sex',\n       'order_address_country', 'order_address_region', 'order_address_city',\n       'order_address_street', 'order_address_house', 'order_address_housing',\n       'order_address_apartment', 'order_address_zip_code'],\n      dtype='object')"
     },
     "metadata": {},
     "output_type": "execute_result",
     "execution_count": 47
    }
   ],
   "source": [
    "len(data.columns)\n",
    "data.columns\n"
   ],
   "metadata": {
    "collapsed": false,
    "pycharm": {
     "name": "#%%\n",
     "is_executing": false
    }
   }
  },
  {
   "cell_type": "code",
   "execution_count": 48,
   "outputs": [
    {
     "data": {
      "text/plain": "71"
     },
     "metadata": {},
     "output_type": "execute_result",
     "execution_count": 48
    }
   ],
   "source": [
    "data.columns.get_loc('stat_order_money')\n",
    "data.columns.get_loc('order_address_apartment')"
   ],
   "metadata": {
    "collapsed": false,
    "pycharm": {
     "name": "#%%\n",
     "is_executing": false
    }
   }
  },
  {
   "cell_type": "code",
   "execution_count": 49,
   "outputs": [
    {
     "name": "stdout",
     "text": [
      "p                    6808\n",
      "r                    1796\n",
      "p+r                  8604\n",
      "всего данных         8632\n",
      "где-то потерялось     -28\n",
      "dtype: int64\n"
     ],
     "output_type": "stream"
    }
   ],
   "source": [
    "p = data['stat_delivery_is_paid'].count()\n",
    "r = data['stat_delivery_is_return'].count()\n",
    "\n",
    "series = pd.Series(data={\"p\": p, \"r\": r, \"p+r\": p+r, \n",
    "                          \"всего данных\": data.shape[0], \"где-то потерялось\": p+r-data.shape[0]}    ) \n",
    "\n",
    "print(series)"
   ],
   "metadata": {
    "collapsed": false,
    "pycharm": {
     "name": "#%%\n",
     "is_executing": false
    }
   }
  },
  {
   "cell_type": "code",
   "execution_count": 50,
   "outputs": [
    {
     "data": {
      "text/plain": "array([49, 50])"
     },
     "metadata": {},
     "output_type": "execute_result",
     "execution_count": 50
    }
   ],
   "source": [
    "stats = np.ravel(np.where(np.char.startswith(list(data.columns), \n",
    "                                    prefix=\"stat_delivery_is\")))\n",
    "stats"
   ],
   "metadata": {
    "collapsed": false,
    "pycharm": {
     "name": "#%%\n",
     "is_executing": false
    }
   }
  },
  {
   "cell_type": "code",
   "execution_count": 51,
   "outputs": [
    {
     "name": "stdout",
     "text": [
      "stat_delivery_is_paid\n",
      "stat_delivery_is_return\n"
     ],
     "output_type": "stream"
    }
   ],
   "source": [
    " \n",
    "for raw in list(data.columns):\n",
    "   if raw.startswith(\"stat_delivery_is\"):\n",
    "       print(raw)\n"
   ],
   "metadata": {
    "collapsed": false,
    "pycharm": {
     "name": "#%%\n",
     "is_executing": false
    }
   }
  },
  {
   "cell_type": "code",
   "execution_count": 52,
   "outputs": [],
   "source": [
    "for col in data.columns:\n",
    "    if data[col].count() == 28:\n",
    "        print(col)\n",
    "\n"
   ],
   "metadata": {
    "collapsed": false,
    "pycharm": {
     "name": "#%%\n",
     "is_executing": false
    }
   }
  },
  {
   "cell_type": "code",
   "execution_count": 53,
   "outputs": [
    {
     "data": {
      "text/plain": "0       80136\n1       16166\n2       00188\n3       12351\n4       89034\n        ...  \n8627    39600\n8628     3503\n8629     7922\n8630    64010\n8631    97016\nName: order_address_zip_code, Length: 8632, dtype: object"
     },
     "metadata": {},
     "output_type": "execute_result",
     "execution_count": 53
    }
   ],
   "source": [
    "data['order_address_zip_code']\n",
    "\n"
   ],
   "metadata": {
    "collapsed": false,
    "pycharm": {
     "name": "#%%\n",
     "is_executing": false
    }
   }
  },
  {
   "cell_type": "code",
   "execution_count": 54,
   "outputs": [
    {
     "name": "stdout",
     "text": [
      "0    1897739\n",
      "Name: order_id, dtype: int64\n",
      "0    2019-12-01 00:11:48\n",
      "Name: stat_order_created_ts, dtype: object\n",
      "0    8204\n",
      "Name: stat_order_processed_user_id, dtype: int64\n",
      "0    2019-12-02 09:53:03\n",
      "Name: stat_order_confirmed_ts, dtype: object\n",
      "0    8204\n",
      "Name: stat_order_confirmed_user_id, dtype: int64\n",
      "0   NaN\n",
      "Name: stat_order_callback_ts, dtype: float64\n",
      "0    2019-12-01 00:11:48\n",
      "Name: stat_order_lead_ts, dtype: object\n",
      "0    8204\n",
      "Name: stat_order_operator_id, dtype: int64\n",
      "0   NaN\n",
      "Name: stat_order_rejection_reason, dtype: float64\n",
      "0   NaN\n",
      "Name: stat_order_invalid_reason, dtype: float64\n",
      "0    IT\n",
      "Name: stat_order_country, dtype: object\n",
      "0    IT\n",
      "Name: stat_order_country_ip, dtype: object\n",
      "0    IT\n",
      "Name: stat_order_country_phone, dtype: object\n",
      "0   NaN\n",
      "Name: stat_order_region, dtype: float64\n",
      "0    NaN\n",
      "Name: stat_order_city, dtype: object\n",
      "0   NaN\n",
      "Name: stat_order_delivery_price, dtype: float64\n",
      "0   NaN\n",
      "Name: stat_order_payment_method, dtype: float64\n",
      "0    NaN\n",
      "Name: stat_order_phone_geocoder, dtype: object\n",
      "0    1\n",
      "Name: stat_order_phone_valid, dtype: int64\n",
      "0    confirmed\n",
      "Name: stat_order_status_order, dtype: object\n",
      "0    1\n",
      "Name: stat_order_is_valid, dtype: int64\n",
      "0    0.0\n",
      "Name: stat_order_is_call_fail, dtype: float64\n",
      "0   NaN\n",
      "Name: stat_order_valid_error, dtype: float64\n",
      "0    46\n",
      "Name: stat_order_webmaster_id, dtype: int64\n",
      "0    5\n",
      "Name: stat_order_offer_id, dtype: int64\n",
      "0   NaN\n",
      "Name: stat_order_landing_id, dtype: float64\n",
      "0   NaN\n",
      "Name: stat_order_prelanding_id, dtype: float64\n",
      "0    13900\n",
      "Name: stat_order_money, dtype: int64\n",
      "0    8\n",
      "Name: stat_order_count_call, dtype: int64\n",
      "0    2020-02-19 15:56:27\n",
      "Name: stat_order_last_call_ts, dtype: object\n",
      "0    6\n",
      "Name: stat_order_count_callback, dtype: int64\n",
      "0    5\n",
      "Name: stat_order_good_count, dtype: int64\n",
      "0    1141427\n",
      "Name: stat_order_phone_id, dtype: int64\n",
      "0    NaN\n",
      "Name: stat_order_utm_source, dtype: object\n",
      "0    MegaPush\n",
      "Name: stat_order_utm_medium, dtype: object\n",
      "0    Roman_Prostatricium_IT Megapush NEW\n",
      "Name: stat_order_utm_campaign, dtype: object\n",
      "0    NaN\n",
      "Name: stat_order_utm_content, dtype: object\n",
      "0    7386au3b7bzb7474\n",
      "Name: stat_order_utm_term, dtype: object\n",
      "0   NaN\n",
      "Name: stat_order_is_prepay, dtype: float64\n",
      "0   NaN\n",
      "Name: stat_order_landing_price, dtype: float64\n",
      "0   NaN\n",
      "Name: stat_order_landing_currency, dtype: float64\n",
      "0    121106\n",
      "Name: stat_order_time_before_open_form, dtype: int64\n",
      "0    5845\n",
      "Name: stat_order_account_manager_id, dtype: int64\n",
      "0    2\n",
      "Name: stat_order_unique_goods, dtype: int64\n",
      "0    2019-12-02 14:30:23\n",
      "Name: stat_delivery_in_stock_ts, dtype: object\n",
      "0   NaN\n",
      "Name: stat_delivery_cancel_in_stock_ts, dtype: float64\n",
      "0    2019-12-05 00:00:00\n",
      "Name: stat_delivery_paid_ts, dtype: object\n",
      "0    NaN\n",
      "Name: stat_delivery_return_ts, dtype: object\n",
      "0    5\n",
      "Name: stat_delivery_good_count, dtype: int64\n",
      "0    1.0\n",
      "Name: stat_delivery_is_paid, dtype: float64\n",
      "0   NaN\n",
      "Name: stat_delivery_is_return, dtype: float64\n",
      "0    paid\n",
      "Name: stat_delivery_delivery_status, dtype: object\n",
      "0    6160\n",
      "Name: stat_delivery_manager_id, dtype: int64\n",
      "0    NaN\n",
      "Name: stat_delivery_exception, dtype: object\n",
      "0    2019-12-17 00:00:00\n",
      "Name: stat_delivery_finance_revise_ts, dtype: object\n",
      "0    0\n",
      "Name: stat_delivery_discount, dtype: int64\n",
      "0    0\n",
      "Name: stat_delivery_discount_eur, dtype: int64\n",
      "0    NaN\n",
      "Name: stat_delivery_operator_status, dtype: object\n",
      "0    1\n",
      "Name: stat_delivery_google_and_operator_address_match, dtype: int64\n",
      "0    Gennaro\n",
      "Name: order_client_name, dtype: object\n",
      "0    Schioppa\n",
      "Name: order_client_surname, dtype: object\n",
      "0    NaN\n",
      "Name: order_client_additional_phone, dtype: object\n",
      "0    67.0\n",
      "Name: order_client_age, dtype: float64\n",
      "0   NaN\n",
      "Name: order_client_age_unknown, dtype: float64\n",
      "0    male\n",
      "Name: order_client_sex, dtype: object\n",
      "0    IT\n",
      "Name: order_address_country, dtype: object\n",
      "0    NaN\n",
      "Name: order_address_region, dtype: object\n",
      "0    Napoli\n",
      "Name: order_address_city, dtype: object\n",
      "0    Via Giacinto Gigante\n",
      "Name: order_address_street, dtype: object\n",
      "0    2\n",
      "Name: order_address_house, dtype: object\n",
      "0    -\n",
      "Name: order_address_housing, dtype: object\n",
      "0    -\n",
      "Name: order_address_apartment, dtype: object\n",
      "0    80136\n",
      "Name: order_address_zip_code, dtype: object\n"
     ],
     "output_type": "stream"
    }
   ],
   "source": [
    "\n",
    "for col in data:\n",
    "    print(data[col][:1])\n"
   ],
   "metadata": {
    "collapsed": false,
    "pycharm": {
     "name": "#%%\n",
     "is_executing": false
    }
   }
  },
  {
   "cell_type": "code",
   "execution_count": 55,
   "outputs": [
    {
     "data": {
      "text/plain": "0       NaN\n1       NaN\n2       NaN\n3       1.0\n4       NaN\n       ... \n8627    NaN\n8628    NaN\n8629    1.0\n8630    NaN\n8631    NaN\nName: stat_delivery_is_return, Length: 8632, dtype: float64"
     },
     "metadata": {},
     "output_type": "execute_result",
     "execution_count": 55
    }
   ],
   "source": [
    "data[\"stat_delivery_is_return\"]"
   ],
   "metadata": {
    "collapsed": false,
    "pycharm": {
     "name": "#%%\n",
     "is_executing": false
    }
   }
  },
  {
   "cell_type": "code",
   "execution_count": 56,
   "outputs": [
    {
     "name": "stdout",
     "text": [
      "0       NaN\n",
      "1       NaN\n",
      "2       NaN\n",
      "3      -1.0\n",
      "4       NaN\n",
      "       ... \n",
      "8627    NaN\n",
      "8628    NaN\n",
      "8629   -1.0\n",
      "8630    NaN\n",
      "8631    NaN\n",
      "Name: stat_delivery_is_return, Length: 8632, dtype: float64\n"
     ],
     "output_type": "stream"
    }
   ],
   "source": [
    "# data[\"stat_delivery_is_return\"].fillna(value=0, inplace=True)\n",
    "# data[\"stat_delivery_is_paid\"].fillna(value=0, inplace=True)\n",
    "\n",
    "\n",
    "data.loc[:, [\"stat_delivery_is_return\", \"stat_delivery_is_paid\"]].fillna(value=0, inplace=True)\n",
    "\n",
    "\n",
    "data.loc[:, \"stat_delivery_is_return\"] = -data[\"stat_delivery_is_return\"]\n",
    "\n",
    "print(data[\"stat_delivery_is_return\"])"
   ],
   "metadata": {
    "collapsed": false,
    "pycharm": {
     "name": "#%%\n",
     "is_executing": false
    }
   }
  },
  {
   "cell_type": "code",
   "execution_count": 57,
   "outputs": [
    {
     "traceback": [
      "\u001b[0;31m---------------------------------------------------------------------------\u001b[0m",
      "\u001b[0;31mValueError\u001b[0m                                Traceback (most recent call last)",
      "\u001b[0;32m<ipython-input-57-5f6be6794b9f>\u001b[0m in \u001b[0;36m<module>\u001b[0;34m\u001b[0m\n\u001b[1;32m      1\u001b[0m binary_target = data.pop(\"stat_delivery_is_paid\").add(\n\u001b[0;32m----> 2\u001b[0;31m     data.pop(\"stat_delivery_is_return\")).astype(int)\n\u001b[0m\u001b[1;32m      3\u001b[0m \u001b[0;34m\u001b[0m\u001b[0m\n\u001b[1;32m      4\u001b[0m \u001b[0mprint\u001b[0m\u001b[0;34m(\u001b[0m\u001b[0mbinary_target\u001b[0m\u001b[0;34m)\u001b[0m\u001b[0;34m\u001b[0m\u001b[0;34m\u001b[0m\u001b[0m\n\u001b[1;32m      5\u001b[0m \u001b[0;34m\u001b[0m\u001b[0m\n",
      "\u001b[0;32m~/anaconda3/envs/WVproject/lib/python3.7/site-packages/pandas/core/generic.py\u001b[0m in \u001b[0;36mastype\u001b[0;34m(self, dtype, copy, errors)\u001b[0m\n\u001b[1;32m   5696\u001b[0m         \u001b[0;32melse\u001b[0m\u001b[0;34m:\u001b[0m\u001b[0;34m\u001b[0m\u001b[0;34m\u001b[0m\u001b[0m\n\u001b[1;32m   5697\u001b[0m             \u001b[0;31m# else, only a single dtype is given\u001b[0m\u001b[0;34m\u001b[0m\u001b[0;34m\u001b[0m\u001b[0;34m\u001b[0m\u001b[0m\n\u001b[0;32m-> 5698\u001b[0;31m             \u001b[0mnew_data\u001b[0m \u001b[0;34m=\u001b[0m \u001b[0mself\u001b[0m\u001b[0;34m.\u001b[0m\u001b[0m_data\u001b[0m\u001b[0;34m.\u001b[0m\u001b[0mastype\u001b[0m\u001b[0;34m(\u001b[0m\u001b[0mdtype\u001b[0m\u001b[0;34m=\u001b[0m\u001b[0mdtype\u001b[0m\u001b[0;34m,\u001b[0m \u001b[0mcopy\u001b[0m\u001b[0;34m=\u001b[0m\u001b[0mcopy\u001b[0m\u001b[0;34m,\u001b[0m \u001b[0merrors\u001b[0m\u001b[0;34m=\u001b[0m\u001b[0merrors\u001b[0m\u001b[0;34m)\u001b[0m\u001b[0;34m\u001b[0m\u001b[0;34m\u001b[0m\u001b[0m\n\u001b[0m\u001b[1;32m   5699\u001b[0m             \u001b[0;32mreturn\u001b[0m \u001b[0mself\u001b[0m\u001b[0;34m.\u001b[0m\u001b[0m_constructor\u001b[0m\u001b[0;34m(\u001b[0m\u001b[0mnew_data\u001b[0m\u001b[0;34m)\u001b[0m\u001b[0;34m.\u001b[0m\u001b[0m__finalize__\u001b[0m\u001b[0;34m(\u001b[0m\u001b[0mself\u001b[0m\u001b[0;34m)\u001b[0m\u001b[0;34m\u001b[0m\u001b[0;34m\u001b[0m\u001b[0m\n\u001b[1;32m   5700\u001b[0m \u001b[0;34m\u001b[0m\u001b[0m\n",
      "\u001b[0;32m~/anaconda3/envs/WVproject/lib/python3.7/site-packages/pandas/core/internals/managers.py\u001b[0m in \u001b[0;36mastype\u001b[0;34m(self, dtype, copy, errors)\u001b[0m\n\u001b[1;32m    580\u001b[0m \u001b[0;34m\u001b[0m\u001b[0m\n\u001b[1;32m    581\u001b[0m     \u001b[0;32mdef\u001b[0m \u001b[0mastype\u001b[0m\u001b[0;34m(\u001b[0m\u001b[0mself\u001b[0m\u001b[0;34m,\u001b[0m \u001b[0mdtype\u001b[0m\u001b[0;34m,\u001b[0m \u001b[0mcopy\u001b[0m\u001b[0;34m:\u001b[0m \u001b[0mbool\u001b[0m \u001b[0;34m=\u001b[0m \u001b[0;32mFalse\u001b[0m\u001b[0;34m,\u001b[0m \u001b[0merrors\u001b[0m\u001b[0;34m:\u001b[0m \u001b[0mstr\u001b[0m \u001b[0;34m=\u001b[0m \u001b[0;34m\"raise\"\u001b[0m\u001b[0;34m)\u001b[0m\u001b[0;34m:\u001b[0m\u001b[0;34m\u001b[0m\u001b[0;34m\u001b[0m\u001b[0m\n\u001b[0;32m--> 582\u001b[0;31m         \u001b[0;32mreturn\u001b[0m \u001b[0mself\u001b[0m\u001b[0;34m.\u001b[0m\u001b[0mapply\u001b[0m\u001b[0;34m(\u001b[0m\u001b[0;34m\"astype\"\u001b[0m\u001b[0;34m,\u001b[0m \u001b[0mdtype\u001b[0m\u001b[0;34m=\u001b[0m\u001b[0mdtype\u001b[0m\u001b[0;34m,\u001b[0m \u001b[0mcopy\u001b[0m\u001b[0;34m=\u001b[0m\u001b[0mcopy\u001b[0m\u001b[0;34m,\u001b[0m \u001b[0merrors\u001b[0m\u001b[0;34m=\u001b[0m\u001b[0merrors\u001b[0m\u001b[0;34m)\u001b[0m\u001b[0;34m\u001b[0m\u001b[0;34m\u001b[0m\u001b[0m\n\u001b[0m\u001b[1;32m    583\u001b[0m \u001b[0;34m\u001b[0m\u001b[0m\n\u001b[1;32m    584\u001b[0m     \u001b[0;32mdef\u001b[0m \u001b[0mconvert\u001b[0m\u001b[0;34m(\u001b[0m\u001b[0mself\u001b[0m\u001b[0;34m,\u001b[0m \u001b[0;34m**\u001b[0m\u001b[0mkwargs\u001b[0m\u001b[0;34m)\u001b[0m\u001b[0;34m:\u001b[0m\u001b[0;34m\u001b[0m\u001b[0;34m\u001b[0m\u001b[0m\n",
      "\u001b[0;32m~/anaconda3/envs/WVproject/lib/python3.7/site-packages/pandas/core/internals/managers.py\u001b[0m in \u001b[0;36mapply\u001b[0;34m(self, f, filter, **kwargs)\u001b[0m\n\u001b[1;32m    440\u001b[0m                 \u001b[0mapplied\u001b[0m \u001b[0;34m=\u001b[0m \u001b[0mb\u001b[0m\u001b[0;34m.\u001b[0m\u001b[0mapply\u001b[0m\u001b[0;34m(\u001b[0m\u001b[0mf\u001b[0m\u001b[0;34m,\u001b[0m \u001b[0;34m**\u001b[0m\u001b[0mkwargs\u001b[0m\u001b[0;34m)\u001b[0m\u001b[0;34m\u001b[0m\u001b[0;34m\u001b[0m\u001b[0m\n\u001b[1;32m    441\u001b[0m             \u001b[0;32melse\u001b[0m\u001b[0;34m:\u001b[0m\u001b[0;34m\u001b[0m\u001b[0;34m\u001b[0m\u001b[0m\n\u001b[0;32m--> 442\u001b[0;31m                 \u001b[0mapplied\u001b[0m \u001b[0;34m=\u001b[0m \u001b[0mgetattr\u001b[0m\u001b[0;34m(\u001b[0m\u001b[0mb\u001b[0m\u001b[0;34m,\u001b[0m \u001b[0mf\u001b[0m\u001b[0;34m)\u001b[0m\u001b[0;34m(\u001b[0m\u001b[0;34m**\u001b[0m\u001b[0mkwargs\u001b[0m\u001b[0;34m)\u001b[0m\u001b[0;34m\u001b[0m\u001b[0;34m\u001b[0m\u001b[0m\n\u001b[0m\u001b[1;32m    443\u001b[0m             \u001b[0mresult_blocks\u001b[0m \u001b[0;34m=\u001b[0m \u001b[0m_extend_blocks\u001b[0m\u001b[0;34m(\u001b[0m\u001b[0mapplied\u001b[0m\u001b[0;34m,\u001b[0m \u001b[0mresult_blocks\u001b[0m\u001b[0;34m)\u001b[0m\u001b[0;34m\u001b[0m\u001b[0;34m\u001b[0m\u001b[0m\n\u001b[1;32m    444\u001b[0m \u001b[0;34m\u001b[0m\u001b[0m\n",
      "\u001b[0;32m~/anaconda3/envs/WVproject/lib/python3.7/site-packages/pandas/core/internals/blocks.py\u001b[0m in \u001b[0;36mastype\u001b[0;34m(self, dtype, copy, errors)\u001b[0m\n\u001b[1;32m    623\u001b[0m             \u001b[0mvals1d\u001b[0m \u001b[0;34m=\u001b[0m \u001b[0mvalues\u001b[0m\u001b[0;34m.\u001b[0m\u001b[0mravel\u001b[0m\u001b[0;34m(\u001b[0m\u001b[0;34m)\u001b[0m\u001b[0;34m\u001b[0m\u001b[0;34m\u001b[0m\u001b[0m\n\u001b[1;32m    624\u001b[0m             \u001b[0;32mtry\u001b[0m\u001b[0;34m:\u001b[0m\u001b[0;34m\u001b[0m\u001b[0;34m\u001b[0m\u001b[0m\n\u001b[0;32m--> 625\u001b[0;31m                 \u001b[0mvalues\u001b[0m \u001b[0;34m=\u001b[0m \u001b[0mastype_nansafe\u001b[0m\u001b[0;34m(\u001b[0m\u001b[0mvals1d\u001b[0m\u001b[0;34m,\u001b[0m \u001b[0mdtype\u001b[0m\u001b[0;34m,\u001b[0m \u001b[0mcopy\u001b[0m\u001b[0;34m=\u001b[0m\u001b[0;32mTrue\u001b[0m\u001b[0;34m)\u001b[0m\u001b[0;34m\u001b[0m\u001b[0;34m\u001b[0m\u001b[0m\n\u001b[0m\u001b[1;32m    626\u001b[0m             \u001b[0;32mexcept\u001b[0m \u001b[0;34m(\u001b[0m\u001b[0mValueError\u001b[0m\u001b[0;34m,\u001b[0m \u001b[0mTypeError\u001b[0m\u001b[0;34m)\u001b[0m\u001b[0;34m:\u001b[0m\u001b[0;34m\u001b[0m\u001b[0;34m\u001b[0m\u001b[0m\n\u001b[1;32m    627\u001b[0m                 \u001b[0;31m# e.g. astype_nansafe can fail on object-dtype of strings\u001b[0m\u001b[0;34m\u001b[0m\u001b[0;34m\u001b[0m\u001b[0;34m\u001b[0m\u001b[0m\n",
      "\u001b[0;32m~/anaconda3/envs/WVproject/lib/python3.7/site-packages/pandas/core/dtypes/cast.py\u001b[0m in \u001b[0;36mastype_nansafe\u001b[0;34m(arr, dtype, copy, skipna)\u001b[0m\n\u001b[1;32m    866\u001b[0m \u001b[0;34m\u001b[0m\u001b[0m\n\u001b[1;32m    867\u001b[0m         \u001b[0;32mif\u001b[0m \u001b[0;32mnot\u001b[0m \u001b[0mnp\u001b[0m\u001b[0;34m.\u001b[0m\u001b[0misfinite\u001b[0m\u001b[0;34m(\u001b[0m\u001b[0marr\u001b[0m\u001b[0;34m)\u001b[0m\u001b[0;34m.\u001b[0m\u001b[0mall\u001b[0m\u001b[0;34m(\u001b[0m\u001b[0;34m)\u001b[0m\u001b[0;34m:\u001b[0m\u001b[0;34m\u001b[0m\u001b[0;34m\u001b[0m\u001b[0m\n\u001b[0;32m--> 868\u001b[0;31m             \u001b[0;32mraise\u001b[0m \u001b[0mValueError\u001b[0m\u001b[0;34m(\u001b[0m\u001b[0;34m\"Cannot convert non-finite values (NA or inf) to integer\"\u001b[0m\u001b[0;34m)\u001b[0m\u001b[0;34m\u001b[0m\u001b[0;34m\u001b[0m\u001b[0m\n\u001b[0m\u001b[1;32m    869\u001b[0m \u001b[0;34m\u001b[0m\u001b[0m\n\u001b[1;32m    870\u001b[0m     \u001b[0;32melif\u001b[0m \u001b[0mis_object_dtype\u001b[0m\u001b[0;34m(\u001b[0m\u001b[0marr\u001b[0m\u001b[0;34m)\u001b[0m\u001b[0;34m:\u001b[0m\u001b[0;34m\u001b[0m\u001b[0;34m\u001b[0m\u001b[0m\n",
      "\u001b[0;31mValueError\u001b[0m: Cannot convert non-finite values (NA or inf) to integer"
     ],
     "ename": "ValueError",
     "evalue": "Cannot convert non-finite values (NA or inf) to integer",
     "output_type": "error"
    }
   ],
   "source": [
    "binary_target = data.pop(\"stat_delivery_is_paid\").add(\n",
    "    data.pop(\"stat_delivery_is_return\")).astype(int)\n",
    "\n",
    "print(binary_target)"
   ],
   "metadata": {
    "collapsed": false,
    "pycharm": {
     "name": "#%%\n",
     "is_executing": false
    }
   }
  },
  {
   "cell_type": "code",
   "execution_count": null,
   "outputs": [],
   "source": [],
   "metadata": {
    "collapsed": false,
    "pycharm": {
     "name": "#%%\n",
     "is_executing": false
    }
   }
  },
  {
   "cell_type": "code",
   "execution_count": null,
   "outputs": [],
   "source": [
    "\n"
   ],
   "metadata": {
    "collapsed": false,
    "pycharm": {
     "name": "#%%\n",
     "is_executing": false
    }
   }
  }
 ],
 "metadata": {
  "kernelspec": {
   "display_name": "Python 3",
   "language": "python",
   "name": "python3"
  },
  "language_info": {
   "codemirror_mode": {
    "name": "ipython",
    "version": 2
   },
   "file_extension": ".py",
   "mimetype": "text/x-python",
   "name": "python",
   "nbconvert_exporter": "python",
   "pygments_lexer": "ipython2",
   "version": "2.7.6"
  },
  "pycharm": {
   "stem_cell": {
    "cell_type": "raw",
    "source": [],
    "metadata": {
     "collapsed": false
    }
   }
  }
 },
 "nbformat": 4,
 "nbformat_minor": 0
}